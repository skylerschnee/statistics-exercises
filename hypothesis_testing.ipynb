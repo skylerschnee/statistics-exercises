{
 "cells": [
  {
   "cell_type": "code",
   "execution_count": 2,
   "id": "ef1e81eb",
   "metadata": {},
   "outputs": [],
   "source": [
    "import numpy as np\n",
    "import seaborn as sns\n",
    "import scipy.stats as stats\n",
    "import pandas as pd\n",
    "import matplotlib.pyplot as plt\n",
    "from pydataset import data"
   ]
  },
  {
   "cell_type": "markdown",
   "id": "b6176f8f",
   "metadata": {},
   "source": [
    "### Answer with the type of test you would use (assume normal distribution):"
   ]
  },
  {
   "cell_type": "markdown",
   "id": "1460c8b3",
   "metadata": {},
   "source": [
    "- Is there a difference in grades of students on the second floor compared to grades of all students?"
   ]
  },
  {
   "cell_type": "code",
   "execution_count": null,
   "id": "de67fd6c",
   "metadata": {},
   "outputs": [],
   "source": [
    "# One sample t-test\n",
    "# two-tailed (non directional)"
   ]
  },
  {
   "cell_type": "markdown",
   "id": "2c289057",
   "metadata": {},
   "source": [
    "- Are adults who drink milk taller than adults who dont drink milk?"
   ]
  },
  {
   "cell_type": "code",
   "execution_count": null,
   "id": "99aa8a8c",
   "metadata": {},
   "outputs": [],
   "source": [
    "# Independent t-test (or 2-sample)\n",
    "# one-tailed (directional)"
   ]
  },
  {
   "cell_type": "markdown",
   "id": "c0c9c54d",
   "metadata": {},
   "source": [
    "- Is the the price of gas higher in texas or in new mexico?"
   ]
  },
  {
   "cell_type": "code",
   "execution_count": null,
   "id": "08b68260",
   "metadata": {},
   "outputs": [],
   "source": [
    "# Independent t-test (or 2-sample)\n",
    "# one-tailed (directional)"
   ]
  },
  {
   "cell_type": "markdown",
   "id": "c3534dce",
   "metadata": {},
   "source": [
    "- Are there differences in stress levels between students who take data science vs students who take web development vs students who take cloud academy?"
   ]
  },
  {
   "cell_type": "code",
   "execution_count": null,
   "id": "0632b403",
   "metadata": {},
   "outputs": [],
   "source": [
    "# ANOVA\n",
    "# two-tailed (non directional)"
   ]
  },
  {
   "cell_type": "markdown",
   "id": "e212dfb9",
   "metadata": {},
   "source": [
    "### Ace Realty wants to determine whether the average time it takes to sell homes is different for its two offices. A sample of 40 sales from office #1 revealed a mean of 90 days and a standard deviation of 15 days. A sample of 50 sales from office #2 revealed a mean of 100 days and a standard deviation of 20 days. Use a .05 level of significance."
   ]
  },
  {
   "cell_type": "markdown",
   "id": "c0b564db",
   "metadata": {},
   "source": [
    "H$_O$ : Mean of time it takes to sell homes at office 1 = Mean of time it takes to sell homes at office 2\n",
    "\n",
    "H$_a$ : Mean of time it takes to sell homes at office 1 != Mean of time it takes to sell homes at office 2"
   ]
  },
  {
   "cell_type": "code",
   "execution_count": 74,
   "id": "cfadea16",
   "metadata": {},
   "outputs": [],
   "source": [
    "α = 0.05"
   ]
  },
  {
   "cell_type": "code",
   "execution_count": 3,
   "id": "f7864971",
   "metadata": {},
   "outputs": [],
   "source": [
    "μ_one = 90\n",
    "σ_one = 15\n",
    "\n",
    "μ_two = 100\n",
    "σ_two = 20"
   ]
  },
  {
   "cell_type": "code",
   "execution_count": 52,
   "id": "a414cf23",
   "metadata": {},
   "outputs": [],
   "source": [
    "office_one_sales = np.random.normal(μ_one, σ_one, size = 40)"
   ]
  },
  {
   "cell_type": "code",
   "execution_count": 53,
   "id": "bf37368e",
   "metadata": {},
   "outputs": [],
   "source": [
    "office_two_sales = np.random.normal(μ_two, σ_two, size = 50)"
   ]
  },
  {
   "cell_type": "code",
   "execution_count": 63,
   "id": "42028f83",
   "metadata": {},
   "outputs": [],
   "source": [
    "stat, p_levene = stats.levene(office_one_sales, office_two_sales)"
   ]
  },
  {
   "cell_type": "code",
   "execution_count": 64,
   "id": "92b5c15c",
   "metadata": {},
   "outputs": [
    {
     "data": {
      "text/plain": [
       "False"
      ]
     },
     "execution_count": 64,
     "metadata": {},
     "output_type": "execute_result"
    }
   ],
   "source": [
    "p_levene < α"
   ]
  },
  {
   "cell_type": "code",
   "execution_count": 57,
   "id": "cbd075a2",
   "metadata": {},
   "outputs": [],
   "source": [
    "t_stat, p_val = stats.ttest_ind_from_stats(\n",
    "    μ_one,\n",
    "    σ_one,\n",
    "    40,\n",
    "    μ_two,\n",
    "    σ_two,\n",
    "    50)"
   ]
  },
  {
   "cell_type": "code",
   "execution_count": 58,
   "id": "6f1df237",
   "metadata": {},
   "outputs": [
    {
     "data": {
      "text/plain": [
       "-2.6252287036468456"
      ]
     },
     "execution_count": 58,
     "metadata": {},
     "output_type": "execute_result"
    }
   ],
   "source": [
    "t_stat"
   ]
  },
  {
   "cell_type": "code",
   "execution_count": 59,
   "id": "65985be9",
   "metadata": {},
   "outputs": [
    {
     "data": {
      "text/plain": [
       "0.01020985244923939"
      ]
     },
     "execution_count": 59,
     "metadata": {},
     "output_type": "execute_result"
    }
   ],
   "source": [
    "p_val"
   ]
  },
  {
   "cell_type": "code",
   "execution_count": 60,
   "id": "90c35eac",
   "metadata": {},
   "outputs": [
    {
     "data": {
      "text/plain": [
       "True"
      ]
     },
     "execution_count": 60,
     "metadata": {},
     "output_type": "execute_result"
    }
   ],
   "source": [
    "p_val < α"
   ]
  },
  {
   "cell_type": "markdown",
   "id": "cfc31700",
   "metadata": {},
   "source": [
    " I can reject my null hypothesis because p_val is less than alpha."
   ]
  },
  {
   "cell_type": "markdown",
   "id": "9f080fb6",
   "metadata": {},
   "source": [
    "### Load the mpg dataset and use it to answer the following questions:"
   ]
  },
  {
   "cell_type": "code",
   "execution_count": 18,
   "id": "9087e68a",
   "metadata": {},
   "outputs": [
    {
     "data": {
      "text/html": [
       "<div>\n",
       "<style scoped>\n",
       "    .dataframe tbody tr th:only-of-type {\n",
       "        vertical-align: middle;\n",
       "    }\n",
       "\n",
       "    .dataframe tbody tr th {\n",
       "        vertical-align: top;\n",
       "    }\n",
       "\n",
       "    .dataframe thead th {\n",
       "        text-align: right;\n",
       "    }\n",
       "</style>\n",
       "<table border=\"1\" class=\"dataframe\">\n",
       "  <thead>\n",
       "    <tr style=\"text-align: right;\">\n",
       "      <th></th>\n",
       "      <th>manufacturer</th>\n",
       "      <th>model</th>\n",
       "      <th>displ</th>\n",
       "      <th>year</th>\n",
       "      <th>cyl</th>\n",
       "      <th>trans</th>\n",
       "      <th>drv</th>\n",
       "      <th>cty</th>\n",
       "      <th>hwy</th>\n",
       "      <th>fl</th>\n",
       "      <th>class</th>\n",
       "    </tr>\n",
       "  </thead>\n",
       "  <tbody>\n",
       "    <tr>\n",
       "      <th>1</th>\n",
       "      <td>audi</td>\n",
       "      <td>a4</td>\n",
       "      <td>1.8</td>\n",
       "      <td>1999</td>\n",
       "      <td>4</td>\n",
       "      <td>auto(l5)</td>\n",
       "      <td>f</td>\n",
       "      <td>18</td>\n",
       "      <td>29</td>\n",
       "      <td>p</td>\n",
       "      <td>compact</td>\n",
       "    </tr>\n",
       "    <tr>\n",
       "      <th>2</th>\n",
       "      <td>audi</td>\n",
       "      <td>a4</td>\n",
       "      <td>1.8</td>\n",
       "      <td>1999</td>\n",
       "      <td>4</td>\n",
       "      <td>manual(m5)</td>\n",
       "      <td>f</td>\n",
       "      <td>21</td>\n",
       "      <td>29</td>\n",
       "      <td>p</td>\n",
       "      <td>compact</td>\n",
       "    </tr>\n",
       "    <tr>\n",
       "      <th>3</th>\n",
       "      <td>audi</td>\n",
       "      <td>a4</td>\n",
       "      <td>2.0</td>\n",
       "      <td>2008</td>\n",
       "      <td>4</td>\n",
       "      <td>manual(m6)</td>\n",
       "      <td>f</td>\n",
       "      <td>20</td>\n",
       "      <td>31</td>\n",
       "      <td>p</td>\n",
       "      <td>compact</td>\n",
       "    </tr>\n",
       "    <tr>\n",
       "      <th>4</th>\n",
       "      <td>audi</td>\n",
       "      <td>a4</td>\n",
       "      <td>2.0</td>\n",
       "      <td>2008</td>\n",
       "      <td>4</td>\n",
       "      <td>auto(av)</td>\n",
       "      <td>f</td>\n",
       "      <td>21</td>\n",
       "      <td>30</td>\n",
       "      <td>p</td>\n",
       "      <td>compact</td>\n",
       "    </tr>\n",
       "    <tr>\n",
       "      <th>5</th>\n",
       "      <td>audi</td>\n",
       "      <td>a4</td>\n",
       "      <td>2.8</td>\n",
       "      <td>1999</td>\n",
       "      <td>6</td>\n",
       "      <td>auto(l5)</td>\n",
       "      <td>f</td>\n",
       "      <td>16</td>\n",
       "      <td>26</td>\n",
       "      <td>p</td>\n",
       "      <td>compact</td>\n",
       "    </tr>\n",
       "  </tbody>\n",
       "</table>\n",
       "</div>"
      ],
      "text/plain": [
       "  manufacturer model  displ  year  cyl       trans drv  cty  hwy fl    class\n",
       "1         audi    a4    1.8  1999    4    auto(l5)   f   18   29  p  compact\n",
       "2         audi    a4    1.8  1999    4  manual(m5)   f   21   29  p  compact\n",
       "3         audi    a4    2.0  2008    4  manual(m6)   f   20   31  p  compact\n",
       "4         audi    a4    2.0  2008    4    auto(av)   f   21   30  p  compact\n",
       "5         audi    a4    2.8  1999    6    auto(l5)   f   16   26  p  compact"
      ]
     },
     "execution_count": 18,
     "metadata": {},
     "output_type": "execute_result"
    }
   ],
   "source": [
    "mpg = data('mpg')\n",
    "mpg.head()"
   ]
  },
  {
   "cell_type": "markdown",
   "id": "0d69b788",
   "metadata": {},
   "source": [
    "- Is there a difference in fuel-efficiency in cars from 2008 vs 1999?"
   ]
  },
  {
   "cell_type": "code",
   "execution_count": 19,
   "id": "2187a252",
   "metadata": {},
   "outputs": [
    {
     "data": {
      "text/html": [
       "<div>\n",
       "<style scoped>\n",
       "    .dataframe tbody tr th:only-of-type {\n",
       "        vertical-align: middle;\n",
       "    }\n",
       "\n",
       "    .dataframe tbody tr th {\n",
       "        vertical-align: top;\n",
       "    }\n",
       "\n",
       "    .dataframe thead th {\n",
       "        text-align: right;\n",
       "    }\n",
       "</style>\n",
       "<table border=\"1\" class=\"dataframe\">\n",
       "  <thead>\n",
       "    <tr style=\"text-align: right;\">\n",
       "      <th></th>\n",
       "      <th>manufacturer</th>\n",
       "      <th>model</th>\n",
       "      <th>displ</th>\n",
       "      <th>year</th>\n",
       "      <th>cyl</th>\n",
       "      <th>trans</th>\n",
       "      <th>drv</th>\n",
       "      <th>cty</th>\n",
       "      <th>hwy</th>\n",
       "      <th>fl</th>\n",
       "      <th>class</th>\n",
       "      <th>avg_eff</th>\n",
       "    </tr>\n",
       "  </thead>\n",
       "  <tbody>\n",
       "    <tr>\n",
       "      <th>1</th>\n",
       "      <td>audi</td>\n",
       "      <td>a4</td>\n",
       "      <td>1.8</td>\n",
       "      <td>1999</td>\n",
       "      <td>4</td>\n",
       "      <td>auto(l5)</td>\n",
       "      <td>f</td>\n",
       "      <td>18</td>\n",
       "      <td>29</td>\n",
       "      <td>p</td>\n",
       "      <td>compact</td>\n",
       "      <td>23.5</td>\n",
       "    </tr>\n",
       "    <tr>\n",
       "      <th>2</th>\n",
       "      <td>audi</td>\n",
       "      <td>a4</td>\n",
       "      <td>1.8</td>\n",
       "      <td>1999</td>\n",
       "      <td>4</td>\n",
       "      <td>manual(m5)</td>\n",
       "      <td>f</td>\n",
       "      <td>21</td>\n",
       "      <td>29</td>\n",
       "      <td>p</td>\n",
       "      <td>compact</td>\n",
       "      <td>25.0</td>\n",
       "    </tr>\n",
       "    <tr>\n",
       "      <th>3</th>\n",
       "      <td>audi</td>\n",
       "      <td>a4</td>\n",
       "      <td>2.0</td>\n",
       "      <td>2008</td>\n",
       "      <td>4</td>\n",
       "      <td>manual(m6)</td>\n",
       "      <td>f</td>\n",
       "      <td>20</td>\n",
       "      <td>31</td>\n",
       "      <td>p</td>\n",
       "      <td>compact</td>\n",
       "      <td>25.5</td>\n",
       "    </tr>\n",
       "    <tr>\n",
       "      <th>4</th>\n",
       "      <td>audi</td>\n",
       "      <td>a4</td>\n",
       "      <td>2.0</td>\n",
       "      <td>2008</td>\n",
       "      <td>4</td>\n",
       "      <td>auto(av)</td>\n",
       "      <td>f</td>\n",
       "      <td>21</td>\n",
       "      <td>30</td>\n",
       "      <td>p</td>\n",
       "      <td>compact</td>\n",
       "      <td>25.5</td>\n",
       "    </tr>\n",
       "    <tr>\n",
       "      <th>5</th>\n",
       "      <td>audi</td>\n",
       "      <td>a4</td>\n",
       "      <td>2.8</td>\n",
       "      <td>1999</td>\n",
       "      <td>6</td>\n",
       "      <td>auto(l5)</td>\n",
       "      <td>f</td>\n",
       "      <td>16</td>\n",
       "      <td>26</td>\n",
       "      <td>p</td>\n",
       "      <td>compact</td>\n",
       "      <td>21.0</td>\n",
       "    </tr>\n",
       "  </tbody>\n",
       "</table>\n",
       "</div>"
      ],
      "text/plain": [
       "  manufacturer model  displ  year  cyl       trans drv  cty  hwy fl    class  \\\n",
       "1         audi    a4    1.8  1999    4    auto(l5)   f   18   29  p  compact   \n",
       "2         audi    a4    1.8  1999    4  manual(m5)   f   21   29  p  compact   \n",
       "3         audi    a4    2.0  2008    4  manual(m6)   f   20   31  p  compact   \n",
       "4         audi    a4    2.0  2008    4    auto(av)   f   21   30  p  compact   \n",
       "5         audi    a4    2.8  1999    6    auto(l5)   f   16   26  p  compact   \n",
       "\n",
       "   avg_eff  \n",
       "1     23.5  \n",
       "2     25.0  \n",
       "3     25.5  \n",
       "4     25.5  \n",
       "5     21.0  "
      ]
     },
     "execution_count": 19,
     "metadata": {},
     "output_type": "execute_result"
    }
   ],
   "source": [
    "#create a new column displaying avg fuel efficiency\n",
    "mpg['avg_eff'] = (mpg.cty + mpg.hwy) / 2\n",
    "mpg.head()"
   ]
  },
  {
   "cell_type": "code",
   "execution_count": null,
   "id": "8d1542c3",
   "metadata": {},
   "outputs": [],
   "source": [
    "#My two groups of comparision: \n",
    "# - fuel efficiency of 1999 cars\n",
    "# - fuel efficiency of 2008 cars"
   ]
  },
  {
   "cell_type": "code",
   "execution_count": 22,
   "id": "db37bedd",
   "metadata": {},
   "outputs": [],
   "source": [
    "#Determine samples\n",
    "\n",
    "older_cars_eff = mpg[mpg.year == 1999].avg_eff\n",
    "\n",
    "newer_cars_eff = mpg[mpg.year == 2008].avg_eff"
   ]
  },
  {
   "cell_type": "markdown",
   "id": "7c02e1d9",
   "metadata": {},
   "source": [
    "H$_0$: 1999 cars efficiency = to the efficiency of 2008 cars\n",
    "\n",
    "H$_a$: 1999 cars have a difference in efficiency than 2008 cars"
   ]
  },
  {
   "cell_type": "code",
   "execution_count": 65,
   "id": "229fc7bf",
   "metadata": {},
   "outputs": [],
   "source": [
    "stat, p_val = stats.levene(older_cars_eff, newer_cars_eff)"
   ]
  },
  {
   "cell_type": "code",
   "execution_count": 66,
   "id": "744e7469",
   "metadata": {},
   "outputs": [
    {
     "data": {
      "text/plain": [
       "False"
      ]
     },
     "execution_count": 66,
     "metadata": {},
     "output_type": "execute_result"
    }
   ],
   "source": [
    "p_val < α"
   ]
  },
  {
   "cell_type": "code",
   "execution_count": 24,
   "id": "4c83d8ab",
   "metadata": {},
   "outputs": [
    {
     "data": {
      "text/plain": [
       "(0.21960177245940962, 0.8263750772060638)"
      ]
     },
     "execution_count": 24,
     "metadata": {},
     "output_type": "execute_result"
    }
   ],
   "source": [
    "t_stat, p_val = stats.ttest_ind(older_cars_eff, newer_cars_eff, equal_var=False)\n",
    "t_stat, p_val"
   ]
  },
  {
   "cell_type": "code",
   "execution_count": 68,
   "id": "9e05dc46",
   "metadata": {},
   "outputs": [
    {
     "name": "stdout",
     "output_type": "stream",
     "text": [
      "is p_val < alpha?  False\n"
     ]
    }
   ],
   "source": [
    "print(\"is p_val < alpha? \", p_val < α)"
   ]
  },
  {
   "cell_type": "markdown",
   "id": "89c5af83",
   "metadata": {},
   "source": [
    "I cannot reject my null hypothesis."
   ]
  },
  {
   "cell_type": "markdown",
   "id": "682889f2",
   "metadata": {},
   "source": [
    "- Are compact cars more fuel-efficient than the average car?"
   ]
  },
  {
   "cell_type": "code",
   "execution_count": null,
   "id": "9ef7b8c1",
   "metadata": {},
   "outputs": [],
   "source": [
    "#My two groups of comparision: \n",
    "# - fuel efficiency compact cars\n",
    "# - fuel efficiency of the avg car"
   ]
  },
  {
   "cell_type": "code",
   "execution_count": 35,
   "id": "2d15a1f3",
   "metadata": {},
   "outputs": [],
   "source": [
    "#Determine samples\n",
    "\n",
    "comp_cars_eff = mpg[mpg['class'] == 'compact'].avg_eff\n",
    "\n",
    "μth = mpg.avg_eff.mean()"
   ]
  },
  {
   "cell_type": "markdown",
   "id": "9c390265",
   "metadata": {},
   "source": [
    "H$_0$: compact cars are as efficient as the avg car\n",
    "\n",
    "H$_a$: compact cars are more efficient than the avg car"
   ]
  },
  {
   "cell_type": "code",
   "execution_count": 70,
   "id": "470eb0d1",
   "metadata": {},
   "outputs": [],
   "source": [
    "t_stat, p_val = stats.ttest_1samp(comp_cars_eff, μth)"
   ]
  },
  {
   "cell_type": "code",
   "execution_count": 71,
   "id": "6adef4b6",
   "metadata": {},
   "outputs": [
    {
     "data": {
      "text/plain": [
       "7.896888573132533"
      ]
     },
     "execution_count": 71,
     "metadata": {},
     "output_type": "execute_result"
    }
   ],
   "source": [
    "t_stat"
   ]
  },
  {
   "cell_type": "code",
   "execution_count": 76,
   "id": "45e2d5b5",
   "metadata": {},
   "outputs": [
    {
     "data": {
      "text/plain": [
       "4.1985637943171486e-10"
      ]
     },
     "execution_count": 76,
     "metadata": {},
     "output_type": "execute_result"
    }
   ],
   "source": [
    "p_val"
   ]
  },
  {
   "cell_type": "code",
   "execution_count": 82,
   "id": "45be5882",
   "metadata": {},
   "outputs": [
    {
     "data": {
      "text/plain": [
       "2.0992818971585743e-10"
      ]
     },
     "execution_count": 82,
     "metadata": {},
     "output_type": "execute_result"
    }
   ],
   "source": [
    "p_val / 2"
   ]
  },
  {
   "cell_type": "markdown",
   "id": "6edbab13",
   "metadata": {},
   "source": [
    "For a 1-tailed test where our alternative hypothesis is testing for \"greater than\", we evaluate 𝑝/2 < 𝛼 and 𝑡 > 0.\n",
    "Therefore we can reject the hypothesis becuase p_val/2 is > the alpha of .05,  and t_stat > 0"
   ]
  },
  {
   "cell_type": "markdown",
   "id": "b2223c19",
   "metadata": {},
   "source": [
    "- Do manual cars get better gas mileage than automatic cars?"
   ]
  },
  {
   "cell_type": "code",
   "execution_count": null,
   "id": "1881aae6",
   "metadata": {},
   "outputs": [],
   "source": [
    "# groups for testing:\n",
    "# - manual trans cars\n",
    "# - auto trans cars\n",
    "\n",
    "#two sample because there are two explicit subcategories of vehicles\n",
    "#one tailed because we are aplying directionality to our diffence: >"
   ]
  },
  {
   "cell_type": "markdown",
   "id": "6cb40ef4",
   "metadata": {},
   "source": [
    "H$_0$: manual car efficiency <= auto car efficiency\n",
    "\n",
    "H$_a$: manual car efficiency > auto car efficiency"
   ]
  },
  {
   "cell_type": "code",
   "execution_count": 44,
   "id": "39faf88c",
   "metadata": {},
   "outputs": [],
   "source": [
    "# create new column with boolean values for auto or manual transmission\n",
    "mpg['auto_trans'] = mpg.trans.str.startswith('auto')"
   ]
  },
  {
   "cell_type": "code",
   "execution_count": 46,
   "id": "f69c43dc",
   "metadata": {},
   "outputs": [],
   "source": [
    "#determine samples\n",
    "auto_eff = mpg[mpg['auto_trans'] == True].avg_eff\n",
    "\n",
    "manual_eff = mpg[mpg['auto_trans'] == False].avg_eff"
   ]
  },
  {
   "cell_type": "code",
   "execution_count": 47,
   "id": "a50efa76",
   "metadata": {},
   "outputs": [
    {
     "name": "stdout",
     "output_type": "stream",
     "text": [
      "21.942777233382337\n",
      "26.635167464114826\n"
     ]
    }
   ],
   "source": [
    "#check varience\n",
    "print(auto_eff.var())\n",
    "print(manual_eff.var())"
   ]
  },
  {
   "cell_type": "code",
   "execution_count": 83,
   "id": "ca31978e",
   "metadata": {},
   "outputs": [
    {
     "data": {
      "text/plain": [
       "(4.443514012903072, 1.7952248999917893e-05)"
      ]
     },
     "execution_count": 83,
     "metadata": {},
     "output_type": "execute_result"
    }
   ],
   "source": [
    "t_stat, p_val = stats.ttest_ind(manual_eff, auto_eff, equal_var=False)\n",
    "t_stat, p_val"
   ]
  },
  {
   "cell_type": "code",
   "execution_count": 85,
   "id": "95430f33",
   "metadata": {},
   "outputs": [
    {
     "name": "stdout",
     "output_type": "stream",
     "text": [
      "is p_val/2 < alpha?  False\n",
      "is t_stat > 0?  True\n"
     ]
    }
   ],
   "source": [
    "print(\"is p_val/2 < alpha? \", (1.795 / 2) < α)\n",
    "print(\"is t_stat > 0? \", t_stat > 0)"
   ]
  },
  {
   "cell_type": "markdown",
   "id": "6bf77f34",
   "metadata": {},
   "source": [
    "For a 1-tailed test where our alternative hypothesis is testing for \"greater than\", we evaluate 𝑝/2 < 𝛼 and 𝑡 > 0. Therefore we can reject the Null hypothesis becuase p_val/2 is not < the alpha of .05, and t_stat > 0"
   ]
  },
  {
   "cell_type": "markdown",
   "id": "3eff1ee2",
   "metadata": {},
   "source": [
    "## Exercises\n",
    "\n",
    "### Continue working in your hypothesis_testing notebook.\n",
    "\n",
    "### Answer with the type of stats test you would use (assume normal distribution):"
   ]
  },
  {
   "cell_type": "markdown",
   "id": "bf72d26c",
   "metadata": {},
   "source": [
    "Is there a relationship between the length of your arm and the length of your foot?"
   ]
  },
  {
   "cell_type": "markdown",
   "id": "877cace7",
   "metadata": {},
   "source": [
    "    - continuous x continuous: linear correlation between two continuous values, does one affect the other. (pearson's correlation)"
   ]
  },
  {
   "cell_type": "markdown",
   "id": "65cc4d35",
   "metadata": {},
   "source": [
    "Do guys and gals quit their jobs at the same rate?"
   ]
  },
  {
   "cell_type": "markdown",
   "id": "91d3950f",
   "metadata": {},
   "source": [
    "    - categorical x categorical: chi^2"
   ]
  },
  {
   "cell_type": "markdown",
   "id": "f9eec249",
   "metadata": {},
   "source": [
    "Does the length of time of the lecture correlate with a students grade?"
   ]
  },
  {
   "cell_type": "markdown",
   "id": "4ce162a0",
   "metadata": {},
   "source": [
    "    - continuous x continuous: linear correlation between two continuous values, does one affect the other. (pearson's correlation)"
   ]
  },
  {
   "cell_type": "markdown",
   "id": "e924463a",
   "metadata": {},
   "source": [
    "### Use the telco_churn data."
   ]
  },
  {
   "cell_type": "code",
   "execution_count": 24,
   "id": "d57f29bb",
   "metadata": {},
   "outputs": [],
   "source": [
    "import env"
   ]
  },
  {
   "cell_type": "code",
   "execution_count": 25,
   "id": "5435af4e",
   "metadata": {},
   "outputs": [],
   "source": [
    "url = env.get_db_url('telco_churn')"
   ]
  },
  {
   "cell_type": "code",
   "execution_count": 142,
   "id": "10606151",
   "metadata": {},
   "outputs": [],
   "source": [
    "telco_churn = pd.read_sql('select * from customers', url)"
   ]
  },
  {
   "cell_type": "code",
   "execution_count": 207,
   "id": "7c5eeecc",
   "metadata": {},
   "outputs": [
    {
     "data": {
      "text/html": [
       "<div>\n",
       "<style scoped>\n",
       "    .dataframe tbody tr th:only-of-type {\n",
       "        vertical-align: middle;\n",
       "    }\n",
       "\n",
       "    .dataframe tbody tr th {\n",
       "        vertical-align: top;\n",
       "    }\n",
       "\n",
       "    .dataframe thead th {\n",
       "        text-align: right;\n",
       "    }\n",
       "</style>\n",
       "<table border=\"1\" class=\"dataframe\">\n",
       "  <thead>\n",
       "    <tr style=\"text-align: right;\">\n",
       "      <th></th>\n",
       "      <th>customer_id</th>\n",
       "      <th>gender</th>\n",
       "      <th>senior_citizen</th>\n",
       "      <th>partner</th>\n",
       "      <th>dependents</th>\n",
       "      <th>tenure</th>\n",
       "      <th>phone_service</th>\n",
       "      <th>multiple_lines</th>\n",
       "      <th>internet_service_type_id</th>\n",
       "      <th>online_security</th>\n",
       "      <th>...</th>\n",
       "      <th>device_protection</th>\n",
       "      <th>tech_support</th>\n",
       "      <th>streaming_tv</th>\n",
       "      <th>streaming_movies</th>\n",
       "      <th>contract_type_id</th>\n",
       "      <th>paperless_billing</th>\n",
       "      <th>payment_type_id</th>\n",
       "      <th>monthly_charges</th>\n",
       "      <th>total_charges</th>\n",
       "      <th>churn</th>\n",
       "    </tr>\n",
       "  </thead>\n",
       "  <tbody>\n",
       "    <tr>\n",
       "      <th>0</th>\n",
       "      <td>0002-ORFBO</td>\n",
       "      <td>Female</td>\n",
       "      <td>0</td>\n",
       "      <td>Yes</td>\n",
       "      <td>Yes</td>\n",
       "      <td>9</td>\n",
       "      <td>Yes</td>\n",
       "      <td>No</td>\n",
       "      <td>1</td>\n",
       "      <td>No</td>\n",
       "      <td>...</td>\n",
       "      <td>No</td>\n",
       "      <td>Yes</td>\n",
       "      <td>Yes</td>\n",
       "      <td>No</td>\n",
       "      <td>2</td>\n",
       "      <td>Yes</td>\n",
       "      <td>2</td>\n",
       "      <td>65.6</td>\n",
       "      <td>593.3</td>\n",
       "      <td>No</td>\n",
       "    </tr>\n",
       "    <tr>\n",
       "      <th>1</th>\n",
       "      <td>0003-MKNFE</td>\n",
       "      <td>Male</td>\n",
       "      <td>0</td>\n",
       "      <td>No</td>\n",
       "      <td>No</td>\n",
       "      <td>9</td>\n",
       "      <td>Yes</td>\n",
       "      <td>Yes</td>\n",
       "      <td>1</td>\n",
       "      <td>No</td>\n",
       "      <td>...</td>\n",
       "      <td>No</td>\n",
       "      <td>No</td>\n",
       "      <td>No</td>\n",
       "      <td>Yes</td>\n",
       "      <td>1</td>\n",
       "      <td>No</td>\n",
       "      <td>2</td>\n",
       "      <td>59.9</td>\n",
       "      <td>542.4</td>\n",
       "      <td>No</td>\n",
       "    </tr>\n",
       "    <tr>\n",
       "      <th>2</th>\n",
       "      <td>0004-TLHLJ</td>\n",
       "      <td>Male</td>\n",
       "      <td>0</td>\n",
       "      <td>No</td>\n",
       "      <td>No</td>\n",
       "      <td>4</td>\n",
       "      <td>Yes</td>\n",
       "      <td>No</td>\n",
       "      <td>2</td>\n",
       "      <td>No</td>\n",
       "      <td>...</td>\n",
       "      <td>Yes</td>\n",
       "      <td>No</td>\n",
       "      <td>No</td>\n",
       "      <td>No</td>\n",
       "      <td>1</td>\n",
       "      <td>Yes</td>\n",
       "      <td>1</td>\n",
       "      <td>73.9</td>\n",
       "      <td>280.85</td>\n",
       "      <td>Yes</td>\n",
       "    </tr>\n",
       "    <tr>\n",
       "      <th>3</th>\n",
       "      <td>0011-IGKFF</td>\n",
       "      <td>Male</td>\n",
       "      <td>1</td>\n",
       "      <td>Yes</td>\n",
       "      <td>No</td>\n",
       "      <td>13</td>\n",
       "      <td>Yes</td>\n",
       "      <td>No</td>\n",
       "      <td>2</td>\n",
       "      <td>No</td>\n",
       "      <td>...</td>\n",
       "      <td>Yes</td>\n",
       "      <td>No</td>\n",
       "      <td>Yes</td>\n",
       "      <td>Yes</td>\n",
       "      <td>1</td>\n",
       "      <td>Yes</td>\n",
       "      <td>1</td>\n",
       "      <td>98.0</td>\n",
       "      <td>1237.85</td>\n",
       "      <td>Yes</td>\n",
       "    </tr>\n",
       "    <tr>\n",
       "      <th>4</th>\n",
       "      <td>0013-EXCHZ</td>\n",
       "      <td>Female</td>\n",
       "      <td>1</td>\n",
       "      <td>Yes</td>\n",
       "      <td>No</td>\n",
       "      <td>3</td>\n",
       "      <td>Yes</td>\n",
       "      <td>No</td>\n",
       "      <td>2</td>\n",
       "      <td>No</td>\n",
       "      <td>...</td>\n",
       "      <td>No</td>\n",
       "      <td>Yes</td>\n",
       "      <td>Yes</td>\n",
       "      <td>No</td>\n",
       "      <td>1</td>\n",
       "      <td>Yes</td>\n",
       "      <td>2</td>\n",
       "      <td>83.9</td>\n",
       "      <td>267.4</td>\n",
       "      <td>Yes</td>\n",
       "    </tr>\n",
       "  </tbody>\n",
       "</table>\n",
       "<p>5 rows × 21 columns</p>\n",
       "</div>"
      ],
      "text/plain": [
       "  customer_id  gender  senior_citizen partner dependents  tenure  \\\n",
       "0  0002-ORFBO  Female               0     Yes        Yes       9   \n",
       "1  0003-MKNFE    Male               0      No         No       9   \n",
       "2  0004-TLHLJ    Male               0      No         No       4   \n",
       "3  0011-IGKFF    Male               1     Yes         No      13   \n",
       "4  0013-EXCHZ  Female               1     Yes         No       3   \n",
       "\n",
       "  phone_service multiple_lines  internet_service_type_id online_security  ...  \\\n",
       "0           Yes             No                         1              No  ...   \n",
       "1           Yes            Yes                         1              No  ...   \n",
       "2           Yes             No                         2              No  ...   \n",
       "3           Yes             No                         2              No  ...   \n",
       "4           Yes             No                         2              No  ...   \n",
       "\n",
       "  device_protection tech_support streaming_tv streaming_movies  \\\n",
       "0                No          Yes          Yes               No   \n",
       "1                No           No           No              Yes   \n",
       "2               Yes           No           No               No   \n",
       "3               Yes           No          Yes              Yes   \n",
       "4                No          Yes          Yes               No   \n",
       "\n",
       "  contract_type_id  paperless_billing payment_type_id  monthly_charges  \\\n",
       "0                2                Yes               2             65.6   \n",
       "1                1                 No               2             59.9   \n",
       "2                1                Yes               1             73.9   \n",
       "3                1                Yes               1             98.0   \n",
       "4                1                Yes               2             83.9   \n",
       "\n",
       "   total_charges churn  \n",
       "0          593.3    No  \n",
       "1          542.4    No  \n",
       "2         280.85   Yes  \n",
       "3        1237.85   Yes  \n",
       "4          267.4   Yes  \n",
       "\n",
       "[5 rows x 21 columns]"
      ]
     },
     "execution_count": 207,
     "metadata": {},
     "output_type": "execute_result"
    }
   ],
   "source": [
    "telco_churn.head()"
   ]
  },
  {
   "cell_type": "markdown",
   "id": "47528cd9",
   "metadata": {},
   "source": [
    "Does tenure correlate with monthly charges?"
   ]
  },
  {
   "cell_type": "markdown",
   "id": "08621dca",
   "metadata": {},
   "source": [
    "H$_0$ : There is no linear relationship between tenure and monthly charges\n",
    "    \n",
    "H$_a$ : There is a linear relationship between tenure and monthly charges "
   ]
  },
  {
   "cell_type": "code",
   "execution_count": 30,
   "id": "0fa8b9e9",
   "metadata": {},
   "outputs": [],
   "source": [
    "tenure = telco_churn.tenure\n",
    "monthly_charges = telco_churn.monthly_charges"
   ]
  },
  {
   "cell_type": "code",
   "execution_count": 32,
   "id": "d2eb673f",
   "metadata": {},
   "outputs": [],
   "source": [
    "# confidence level = 0.95\n",
    "# alpha = 0.05\n",
    "\n",
    "α = 0.05"
   ]
  },
  {
   "cell_type": "code",
   "execution_count": 34,
   "id": "b521e7b6",
   "metadata": {},
   "outputs": [],
   "source": [
    "r, p = stats.pearsonr(tenure, monthly_charges)"
   ]
  },
  {
   "cell_type": "code",
   "execution_count": 35,
   "id": "ed87c1c4",
   "metadata": {},
   "outputs": [
    {
     "name": "stdout",
     "output_type": "stream",
     "text": [
      "We can reject the null hypothesis\n"
     ]
    }
   ],
   "source": [
    "if p < α:\n",
    "    print('We can reject the null hypothesis')\n",
    "else:\n",
    "    print('We fail to reject the null hypothesis')"
   ]
  },
  {
   "cell_type": "code",
   "execution_count": 36,
   "id": "005873c9",
   "metadata": {},
   "outputs": [
    {
     "data": {
      "text/plain": [
       "0.24789985628615246"
      ]
     },
     "execution_count": 36,
     "metadata": {},
     "output_type": "execute_result"
    }
   ],
   "source": [
    "r"
   ]
  },
  {
   "cell_type": "code",
   "execution_count": 37,
   "id": "91e53365",
   "metadata": {},
   "outputs": [
    {
     "data": {
      "text/plain": [
       "4.094044991483017e-99"
      ]
     },
     "execution_count": 37,
     "metadata": {},
     "output_type": "execute_result"
    }
   ],
   "source": [
    "p"
   ]
  },
  {
   "cell_type": "markdown",
   "id": "1b4303b6",
   "metadata": {},
   "source": [
    "Total charges?"
   ]
  },
  {
   "cell_type": "code",
   "execution_count": 73,
   "id": "96e62c46",
   "metadata": {},
   "outputs": [],
   "source": [
    "telco_churn['total_charges'] = telco_churn['total_charges'].dropna().str.replace(' ', '')"
   ]
  },
  {
   "cell_type": "code",
   "execution_count": 74,
   "id": "538ffabb",
   "metadata": {},
   "outputs": [
    {
     "data": {
      "text/plain": [
       "dtype('O')"
      ]
     },
     "execution_count": 74,
     "metadata": {},
     "output_type": "execute_result"
    }
   ],
   "source": [
    "telco_churn['total_charges'].dtype"
   ]
  },
  {
   "cell_type": "code",
   "execution_count": 75,
   "id": "72c56dae",
   "metadata": {},
   "outputs": [],
   "source": [
    "telco_churn['total_charges'] = pd.to_numeric(telco_churn['total_charges'])"
   ]
  },
  {
   "cell_type": "code",
   "execution_count": 76,
   "id": "403b012c",
   "metadata": {},
   "outputs": [
    {
     "data": {
      "text/plain": [
       "dtype('float64')"
      ]
     },
     "execution_count": 76,
     "metadata": {},
     "output_type": "execute_result"
    }
   ],
   "source": [
    "telco_churn['total_charges'].dtype"
   ]
  },
  {
   "cell_type": "code",
   "execution_count": 86,
   "id": "df4d84cd",
   "metadata": {},
   "outputs": [],
   "source": [
    "telco_churn['total_charges'] = np.nan_to_num(telco_churn['total_charges'])"
   ]
  },
  {
   "cell_type": "code",
   "execution_count": 87,
   "id": "5a739cef",
   "metadata": {},
   "outputs": [],
   "source": [
    "tenure = telco_churn['tenure']\n",
    "total_charges = telco_churn['total_charges']"
   ]
  },
  {
   "cell_type": "code",
   "execution_count": 88,
   "id": "556ab3e5",
   "metadata": {},
   "outputs": [],
   "source": [
    "r, p = stats.pearsonr(tenure, total_charges)"
   ]
  },
  {
   "cell_type": "code",
   "execution_count": 89,
   "id": "444aa60b",
   "metadata": {},
   "outputs": [
    {
     "name": "stdout",
     "output_type": "stream",
     "text": [
      "We can reject the null hypothesis\n"
     ]
    }
   ],
   "source": [
    "if p < α:\n",
    "    print('We can reject the null hypothesis')\n",
    "else:\n",
    "    print('We fail to reject the null hypothesis')"
   ]
  },
  {
   "cell_type": "code",
   "execution_count": 90,
   "id": "f26abf79",
   "metadata": {},
   "outputs": [
    {
     "data": {
      "text/plain": [
       "0.8261783979502481"
      ]
     },
     "execution_count": 90,
     "metadata": {},
     "output_type": "execute_result"
    }
   ],
   "source": [
    "r"
   ]
  },
  {
   "cell_type": "code",
   "execution_count": 91,
   "id": "1bf09cee",
   "metadata": {},
   "outputs": [
    {
     "data": {
      "text/plain": [
       "0.0"
      ]
     },
     "execution_count": 91,
     "metadata": {},
     "output_type": "execute_result"
    }
   ],
   "source": [
    "p"
   ]
  },
  {
   "cell_type": "markdown",
   "id": "8a6bb340",
   "metadata": {},
   "source": [
    "What happens if you control for phone and internet service? #########"
   ]
  },
  {
   "cell_type": "code",
   "execution_count": 147,
   "id": "9d15d507",
   "metadata": {},
   "outputs": [
    {
     "data": {
      "text/plain": [
       "0       Yes\n",
       "1       Yes\n",
       "2       Yes\n",
       "3       Yes\n",
       "4       Yes\n",
       "       ... \n",
       "7038    Yes\n",
       "7039    Yes\n",
       "7040    Yes\n",
       "7041    Yes\n",
       "7042     No\n",
       "Name: phone_service, Length: 7043, dtype: object"
      ]
     },
     "execution_count": 147,
     "metadata": {},
     "output_type": "execute_result"
    }
   ],
   "source": [
    "has_phone = telco_churn['phone_service']\n",
    "has_phone"
   ]
  },
  {
   "cell_type": "code",
   "execution_count": 148,
   "id": "3280a344",
   "metadata": {},
   "outputs": [],
   "source": [
    "int_type = telco_churn['internet_service_type_id']"
   ]
  },
  {
   "cell_type": "code",
   "execution_count": 149,
   "id": "f7e307e5",
   "metadata": {},
   "outputs": [
    {
     "data": {
      "text/html": [
       "<div>\n",
       "<style scoped>\n",
       "    .dataframe tbody tr th:only-of-type {\n",
       "        vertical-align: middle;\n",
       "    }\n",
       "\n",
       "    .dataframe tbody tr th {\n",
       "        vertical-align: top;\n",
       "    }\n",
       "\n",
       "    .dataframe thead th {\n",
       "        text-align: right;\n",
       "    }\n",
       "</style>\n",
       "<table border=\"1\" class=\"dataframe\">\n",
       "  <thead>\n",
       "    <tr style=\"text-align: right;\">\n",
       "      <th>internet_service_type_id</th>\n",
       "      <th>1</th>\n",
       "      <th>2</th>\n",
       "      <th>3</th>\n",
       "    </tr>\n",
       "    <tr>\n",
       "      <th>phone_service</th>\n",
       "      <th></th>\n",
       "      <th></th>\n",
       "      <th></th>\n",
       "    </tr>\n",
       "  </thead>\n",
       "  <tbody>\n",
       "    <tr>\n",
       "      <th>No</th>\n",
       "      <td>682</td>\n",
       "      <td>0</td>\n",
       "      <td>0</td>\n",
       "    </tr>\n",
       "    <tr>\n",
       "      <th>Yes</th>\n",
       "      <td>1739</td>\n",
       "      <td>3096</td>\n",
       "      <td>1526</td>\n",
       "    </tr>\n",
       "  </tbody>\n",
       "</table>\n",
       "</div>"
      ],
      "text/plain": [
       "internet_service_type_id     1     2     3\n",
       "phone_service                             \n",
       "No                         682     0     0\n",
       "Yes                       1739  3096  1526"
      ]
     },
     "execution_count": 149,
     "metadata": {},
     "output_type": "execute_result"
    }
   ],
   "source": [
    "observed = pd.crosstab(has_phone, int_type)\n",
    "observed"
   ]
  },
  {
   "cell_type": "markdown",
   "id": "e729779c",
   "metadata": {},
   "source": [
    "H$_0$ : There is no relationship/dependancy between internet type and phone service\n",
    "    \n",
    "H$_a$ : There is a relationship/dependancy between internet type and phone service"
   ]
  },
  {
   "cell_type": "code",
   "execution_count": 150,
   "id": "a11be8eb",
   "metadata": {},
   "outputs": [
    {
     "data": {
      "text/plain": [
       "0.05"
      ]
     },
     "execution_count": 150,
     "metadata": {},
     "output_type": "execute_result"
    }
   ],
   "source": [
    "α"
   ]
  },
  {
   "cell_type": "code",
   "execution_count": 151,
   "id": "feb0fb63",
   "metadata": {},
   "outputs": [
    {
     "data": {
      "text/plain": [
       "(1441.6233871976851,\n",
       " 0.0,\n",
       " 2,\n",
       " array([[ 234.43447395,  299.79724549,  147.76828056],\n",
       "        [2186.56552605, 2796.20275451, 1378.23171944]]))"
      ]
     },
     "execution_count": 151,
     "metadata": {},
     "output_type": "execute_result"
    }
   ],
   "source": [
    "stats.chi2_contingency(observed)"
   ]
  },
  {
   "cell_type": "code",
   "execution_count": 152,
   "id": "54234c2e",
   "metadata": {},
   "outputs": [],
   "source": [
    "chi2, p, degf, expected = stats.chi2_contingency(observed)"
   ]
  },
  {
   "cell_type": "code",
   "execution_count": 153,
   "id": "71e07d99",
   "metadata": {},
   "outputs": [
    {
     "name": "stdout",
     "output_type": "stream",
     "text": [
      "We can reject the null hypothesis\n",
      "Our p value is 0.0 and our chi-squared statistic is 1441.6233871976851\n"
     ]
    }
   ],
   "source": [
    "if p < α:\n",
    "    print('We can reject the null hypothesis')\n",
    "    print(f'Our p value is {p} and our chi-squared statistic is {chi2}')\n",
    "else:\n",
    "    print('We fail to reject the null hypothesis')"
   ]
  },
  {
   "cell_type": "markdown",
   "id": "4b524b6d",
   "metadata": {},
   "source": [
    "### Use the employees database."
   ]
  },
  {
   "cell_type": "markdown",
   "id": "d0ed79f4",
   "metadata": {},
   "source": [
    "Is there a relationship between how long an employee has been with the company and their salary?"
   ]
  },
  {
   "cell_type": "code",
   "execution_count": 159,
   "id": "948edfd9",
   "metadata": {},
   "outputs": [],
   "source": [
    "import env"
   ]
  },
  {
   "cell_type": "code",
   "execution_count": 160,
   "id": "203c0ba3",
   "metadata": {},
   "outputs": [],
   "source": [
    "url = env.get_db_url('employees')"
   ]
  },
  {
   "cell_type": "code",
   "execution_count": 185,
   "id": "537b243b",
   "metadata": {},
   "outputs": [],
   "source": [
    "emp_title = pd.read_sql('select * from titles', url)"
   ]
  },
  {
   "cell_type": "code",
   "execution_count": 189,
   "id": "c89906d2",
   "metadata": {},
   "outputs": [
    {
     "data": {
      "text/plain": [
       "1773232"
      ]
     },
     "execution_count": 189,
     "metadata": {},
     "output_type": "execute_result"
    }
   ],
   "source": [
    "emp_title.size"
   ]
  },
  {
   "cell_type": "markdown",
   "id": "6a7f516d",
   "metadata": {},
   "source": [
    "Is there a relationship between how long an employee has been with the company and the number of titles they have had?"
   ]
  },
  {
   "cell_type": "code",
   "execution_count": 197,
   "id": "c2b3b35b",
   "metadata": {},
   "outputs": [],
   "source": [
    "emp_title['title_counts'] = pd.read_sql('''\n",
    "                                        select count(title) \n",
    "                                        from titles\n",
    "                                        group by emp_no\n",
    "                                        ;''', url)"
   ]
  },
  {
   "cell_type": "code",
   "execution_count": 192,
   "id": "929945ec",
   "metadata": {},
   "outputs": [],
   "source": [
    "to_date_str = emp_title.to_date.astype(str)\n",
    "to_date_str.str.replace('9999-01-01', '2023-03-07')\n",
    "\n",
    "\n",
    "emp_title['to_date'] = emp_title['to_date'].astype(str).str.replace('9999-01-01', '2023-03-07')"
   ]
  },
  {
   "cell_type": "code",
   "execution_count": 202,
   "id": "01fa019f",
   "metadata": {},
   "outputs": [],
   "source": [
    "emp_title['years'] = emp_title['to_date'].astype(str).str[:4].astype(int) - emp_title['from_date'].astype(str).str[:4].astype(int)\n"
   ]
  },
  {
   "cell_type": "code",
   "execution_count": 203,
   "id": "89af0b94",
   "metadata": {},
   "outputs": [
    {
     "data": {
      "text/html": [
       "<div>\n",
       "<style scoped>\n",
       "    .dataframe tbody tr th:only-of-type {\n",
       "        vertical-align: middle;\n",
       "    }\n",
       "\n",
       "    .dataframe tbody tr th {\n",
       "        vertical-align: top;\n",
       "    }\n",
       "\n",
       "    .dataframe thead th {\n",
       "        text-align: right;\n",
       "    }\n",
       "</style>\n",
       "<table border=\"1\" class=\"dataframe\">\n",
       "  <thead>\n",
       "    <tr style=\"text-align: right;\">\n",
       "      <th></th>\n",
       "      <th>emp_no</th>\n",
       "      <th>title</th>\n",
       "      <th>from_date</th>\n",
       "      <th>to_date</th>\n",
       "      <th>title_counts</th>\n",
       "      <th>years</th>\n",
       "    </tr>\n",
       "  </thead>\n",
       "  <tbody>\n",
       "    <tr>\n",
       "      <th>0</th>\n",
       "      <td>10001</td>\n",
       "      <td>Senior Engineer</td>\n",
       "      <td>1986-06-26</td>\n",
       "      <td>2023-03-07</td>\n",
       "      <td>1.0</td>\n",
       "      <td>37</td>\n",
       "    </tr>\n",
       "    <tr>\n",
       "      <th>1</th>\n",
       "      <td>10002</td>\n",
       "      <td>Staff</td>\n",
       "      <td>1996-08-03</td>\n",
       "      <td>2023-03-07</td>\n",
       "      <td>1.0</td>\n",
       "      <td>27</td>\n",
       "    </tr>\n",
       "    <tr>\n",
       "      <th>2</th>\n",
       "      <td>10003</td>\n",
       "      <td>Senior Engineer</td>\n",
       "      <td>1995-12-03</td>\n",
       "      <td>2023-03-07</td>\n",
       "      <td>1.0</td>\n",
       "      <td>28</td>\n",
       "    </tr>\n",
       "    <tr>\n",
       "      <th>3</th>\n",
       "      <td>10004</td>\n",
       "      <td>Engineer</td>\n",
       "      <td>1986-12-01</td>\n",
       "      <td>1995-12-01</td>\n",
       "      <td>2.0</td>\n",
       "      <td>9</td>\n",
       "    </tr>\n",
       "    <tr>\n",
       "      <th>4</th>\n",
       "      <td>10004</td>\n",
       "      <td>Senior Engineer</td>\n",
       "      <td>1995-12-01</td>\n",
       "      <td>2023-03-07</td>\n",
       "      <td>2.0</td>\n",
       "      <td>28</td>\n",
       "    </tr>\n",
       "    <tr>\n",
       "      <th>5</th>\n",
       "      <td>10005</td>\n",
       "      <td>Senior Staff</td>\n",
       "      <td>1996-09-12</td>\n",
       "      <td>2023-03-07</td>\n",
       "      <td>1.0</td>\n",
       "      <td>27</td>\n",
       "    </tr>\n",
       "    <tr>\n",
       "      <th>6</th>\n",
       "      <td>10005</td>\n",
       "      <td>Staff</td>\n",
       "      <td>1989-09-12</td>\n",
       "      <td>1996-09-12</td>\n",
       "      <td>2.0</td>\n",
       "      <td>7</td>\n",
       "    </tr>\n",
       "    <tr>\n",
       "      <th>7</th>\n",
       "      <td>10006</td>\n",
       "      <td>Senior Engineer</td>\n",
       "      <td>1990-08-05</td>\n",
       "      <td>2023-03-07</td>\n",
       "      <td>1.0</td>\n",
       "      <td>33</td>\n",
       "    </tr>\n",
       "    <tr>\n",
       "      <th>8</th>\n",
       "      <td>10007</td>\n",
       "      <td>Senior Staff</td>\n",
       "      <td>1996-02-11</td>\n",
       "      <td>2023-03-07</td>\n",
       "      <td>3.0</td>\n",
       "      <td>27</td>\n",
       "    </tr>\n",
       "    <tr>\n",
       "      <th>9</th>\n",
       "      <td>10007</td>\n",
       "      <td>Staff</td>\n",
       "      <td>1989-02-10</td>\n",
       "      <td>1996-02-11</td>\n",
       "      <td>1.0</td>\n",
       "      <td>7</td>\n",
       "    </tr>\n",
       "  </tbody>\n",
       "</table>\n",
       "</div>"
      ],
      "text/plain": [
       "   emp_no            title   from_date     to_date  title_counts  years\n",
       "0   10001  Senior Engineer  1986-06-26  2023-03-07           1.0     37\n",
       "1   10002            Staff  1996-08-03  2023-03-07           1.0     27\n",
       "2   10003  Senior Engineer  1995-12-03  2023-03-07           1.0     28\n",
       "3   10004         Engineer  1986-12-01  1995-12-01           2.0      9\n",
       "4   10004  Senior Engineer  1995-12-01  2023-03-07           2.0     28\n",
       "5   10005     Senior Staff  1996-09-12  2023-03-07           1.0     27\n",
       "6   10005            Staff  1989-09-12  1996-09-12           2.0      7\n",
       "7   10006  Senior Engineer  1990-08-05  2023-03-07           1.0     33\n",
       "8   10007     Senior Staff  1996-02-11  2023-03-07           3.0     27\n",
       "9   10007            Staff  1989-02-10  1996-02-11           1.0      7"
      ]
     },
     "execution_count": 203,
     "metadata": {},
     "output_type": "execute_result"
    }
   ],
   "source": [
    "emp_title.head(10)"
   ]
  },
  {
   "cell_type": "code",
   "execution_count": 206,
   "id": "99823d29",
   "metadata": {},
   "outputs": [
    {
     "data": {
      "text/html": [
       "<div>\n",
       "<style scoped>\n",
       "    .dataframe tbody tr th:only-of-type {\n",
       "        vertical-align: middle;\n",
       "    }\n",
       "\n",
       "    .dataframe tbody tr th {\n",
       "        vertical-align: top;\n",
       "    }\n",
       "\n",
       "    .dataframe thead th {\n",
       "        text-align: right;\n",
       "    }\n",
       "</style>\n",
       "<table border=\"1\" class=\"dataframe\">\n",
       "  <thead>\n",
       "    <tr style=\"text-align: right;\">\n",
       "      <th></th>\n",
       "      <th>title_counts</th>\n",
       "      <th>years</th>\n",
       "    </tr>\n",
       "    <tr>\n",
       "      <th>emp_no</th>\n",
       "      <th></th>\n",
       "      <th></th>\n",
       "    </tr>\n",
       "  </thead>\n",
       "  <tbody>\n",
       "    <tr>\n",
       "      <th>10001</th>\n",
       "      <td>1.0</td>\n",
       "      <td>37</td>\n",
       "    </tr>\n",
       "    <tr>\n",
       "      <th>10002</th>\n",
       "      <td>1.0</td>\n",
       "      <td>27</td>\n",
       "    </tr>\n",
       "    <tr>\n",
       "      <th>10003</th>\n",
       "      <td>1.0</td>\n",
       "      <td>28</td>\n",
       "    </tr>\n",
       "    <tr>\n",
       "      <th>10004</th>\n",
       "      <td>4.0</td>\n",
       "      <td>37</td>\n",
       "    </tr>\n",
       "    <tr>\n",
       "      <th>10005</th>\n",
       "      <td>3.0</td>\n",
       "      <td>34</td>\n",
       "    </tr>\n",
       "    <tr>\n",
       "      <th>...</th>\n",
       "      <td>...</td>\n",
       "      <td>...</td>\n",
       "    </tr>\n",
       "    <tr>\n",
       "      <th>499995</th>\n",
       "      <td>0.0</td>\n",
       "      <td>26</td>\n",
       "    </tr>\n",
       "    <tr>\n",
       "      <th>499996</th>\n",
       "      <td>0.0</td>\n",
       "      <td>27</td>\n",
       "    </tr>\n",
       "    <tr>\n",
       "      <th>499997</th>\n",
       "      <td>0.0</td>\n",
       "      <td>36</td>\n",
       "    </tr>\n",
       "    <tr>\n",
       "      <th>499998</th>\n",
       "      <td>0.0</td>\n",
       "      <td>30</td>\n",
       "    </tr>\n",
       "    <tr>\n",
       "      <th>499999</th>\n",
       "      <td>0.0</td>\n",
       "      <td>26</td>\n",
       "    </tr>\n",
       "  </tbody>\n",
       "</table>\n",
       "<p>300024 rows × 2 columns</p>\n",
       "</div>"
      ],
      "text/plain": [
       "        title_counts  years\n",
       "emp_no                     \n",
       "10001            1.0     37\n",
       "10002            1.0     27\n",
       "10003            1.0     28\n",
       "10004            4.0     37\n",
       "10005            3.0     34\n",
       "...              ...    ...\n",
       "499995           0.0     26\n",
       "499996           0.0     27\n",
       "499997           0.0     36\n",
       "499998           0.0     30\n",
       "499999           0.0     26\n",
       "\n",
       "[300024 rows x 2 columns]"
      ]
     },
     "execution_count": 206,
     "metadata": {},
     "output_type": "execute_result"
    }
   ],
   "source": [
    "emp_title.groupby('emp_no').sum('years')"
   ]
  },
  {
   "cell_type": "code",
   "execution_count": null,
   "id": "94535ce0",
   "metadata": {},
   "outputs": [],
   "source": []
  },
  {
   "cell_type": "markdown",
   "id": "9fe69d59",
   "metadata": {},
   "source": [
    "### Use the sleepstudy data."
   ]
  },
  {
   "cell_type": "markdown",
   "id": "7eff9175",
   "metadata": {},
   "source": [
    "Is there a relationship between days and reaction time?"
   ]
  },
  {
   "cell_type": "code",
   "execution_count": 14,
   "id": "9e32a440",
   "metadata": {},
   "outputs": [],
   "source": [
    "sleep = data('sleepstudy')"
   ]
  },
  {
   "cell_type": "code",
   "execution_count": 15,
   "id": "bd38943c",
   "metadata": {},
   "outputs": [
    {
     "data": {
      "text/html": [
       "<div>\n",
       "<style scoped>\n",
       "    .dataframe tbody tr th:only-of-type {\n",
       "        vertical-align: middle;\n",
       "    }\n",
       "\n",
       "    .dataframe tbody tr th {\n",
       "        vertical-align: top;\n",
       "    }\n",
       "\n",
       "    .dataframe thead th {\n",
       "        text-align: right;\n",
       "    }\n",
       "</style>\n",
       "<table border=\"1\" class=\"dataframe\">\n",
       "  <thead>\n",
       "    <tr style=\"text-align: right;\">\n",
       "      <th></th>\n",
       "      <th>Reaction</th>\n",
       "      <th>Days</th>\n",
       "      <th>Subject</th>\n",
       "    </tr>\n",
       "  </thead>\n",
       "  <tbody>\n",
       "    <tr>\n",
       "      <th>1</th>\n",
       "      <td>249.5600</td>\n",
       "      <td>0</td>\n",
       "      <td>308</td>\n",
       "    </tr>\n",
       "    <tr>\n",
       "      <th>2</th>\n",
       "      <td>258.7047</td>\n",
       "      <td>1</td>\n",
       "      <td>308</td>\n",
       "    </tr>\n",
       "    <tr>\n",
       "      <th>3</th>\n",
       "      <td>250.8006</td>\n",
       "      <td>2</td>\n",
       "      <td>308</td>\n",
       "    </tr>\n",
       "    <tr>\n",
       "      <th>4</th>\n",
       "      <td>321.4398</td>\n",
       "      <td>3</td>\n",
       "      <td>308</td>\n",
       "    </tr>\n",
       "    <tr>\n",
       "      <th>5</th>\n",
       "      <td>356.8519</td>\n",
       "      <td>4</td>\n",
       "      <td>308</td>\n",
       "    </tr>\n",
       "  </tbody>\n",
       "</table>\n",
       "</div>"
      ],
      "text/plain": [
       "   Reaction  Days  Subject\n",
       "1  249.5600     0      308\n",
       "2  258.7047     1      308\n",
       "3  250.8006     2      308\n",
       "4  321.4398     3      308\n",
       "5  356.8519     4      308"
      ]
     },
     "execution_count": 15,
     "metadata": {},
     "output_type": "execute_result"
    }
   ],
   "source": [
    "sleep.head()"
   ]
  },
  {
   "cell_type": "markdown",
   "id": "6a9573a2",
   "metadata": {},
   "source": [
    "H$_0$ : There is no linear relationship between days and reaction time\n",
    "    \n",
    "H$_a$ : There is a linear relationship between days and reaction time  "
   ]
  },
  {
   "cell_type": "code",
   "execution_count": 16,
   "id": "16ca6d04",
   "metadata": {},
   "outputs": [],
   "source": [
    "days = sleep.Days\n",
    "reaction = sleep.Reaction"
   ]
  },
  {
   "cell_type": "code",
   "execution_count": 17,
   "id": "5818cc3a",
   "metadata": {},
   "outputs": [],
   "source": [
    "α = 0.05"
   ]
  },
  {
   "cell_type": "code",
   "execution_count": 18,
   "id": "33dbf170",
   "metadata": {},
   "outputs": [],
   "source": [
    "r, p = stats.pearsonr(days, reaction)"
   ]
  },
  {
   "cell_type": "code",
   "execution_count": 19,
   "id": "fe75fb55",
   "metadata": {},
   "outputs": [
    {
     "data": {
      "text/plain": [
       "0.5352302262650255"
      ]
     },
     "execution_count": 19,
     "metadata": {},
     "output_type": "execute_result"
    }
   ],
   "source": [
    "r"
   ]
  },
  {
   "cell_type": "code",
   "execution_count": 20,
   "id": "84e00991",
   "metadata": {},
   "outputs": [
    {
     "data": {
      "text/plain": [
       "9.89409632221439e-15"
      ]
     },
     "execution_count": 20,
     "metadata": {},
     "output_type": "execute_result"
    }
   ],
   "source": [
    "p"
   ]
  },
  {
   "cell_type": "code",
   "execution_count": 21,
   "id": "28f90b61",
   "metadata": {},
   "outputs": [
    {
     "name": "stdout",
     "output_type": "stream",
     "text": [
      "We can reject the null hypothesis\n"
     ]
    }
   ],
   "source": [
    "if p < α:\n",
    "    print('We can reject the null hypothesis')\n",
    "else:\n",
    "    print('We fail to reject the null hypothesis')"
   ]
  },
  {
   "cell_type": "code",
   "execution_count": null,
   "id": "ca97f9f4",
   "metadata": {},
   "outputs": [],
   "source": []
  }
 ],
 "metadata": {
  "kernelspec": {
   "display_name": "Python 3 (ipykernel)",
   "language": "python",
   "name": "python3"
  },
  "language_info": {
   "codemirror_mode": {
    "name": "ipython",
    "version": 3
   },
   "file_extension": ".py",
   "mimetype": "text/x-python",
   "name": "python",
   "nbconvert_exporter": "python",
   "pygments_lexer": "ipython3",
   "version": "3.9.13"
  }
 },
 "nbformat": 4,
 "nbformat_minor": 5
}
