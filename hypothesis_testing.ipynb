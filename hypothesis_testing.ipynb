{
 "cells": [
  {
   "cell_type": "code",
   "execution_count": 1,
   "id": "ef1e81eb",
   "metadata": {},
   "outputs": [],
   "source": [
    "import numpy as np\n",
    "import seaborn as sns\n",
    "import scipy.stats as stats\n",
    "import pandas as pd\n",
    "import matplotlib.pyplot as plt\n",
    "from pydataset import data"
   ]
  },
  {
   "cell_type": "markdown",
   "id": "b6176f8f",
   "metadata": {},
   "source": [
    "### Answer with the type of test you would use (assume normal distribution):"
   ]
  },
  {
   "cell_type": "markdown",
   "id": "1460c8b3",
   "metadata": {},
   "source": [
    "- Is there a difference in grades of students on the second floor compared to grades of all students?"
   ]
  },
  {
   "cell_type": "code",
   "execution_count": null,
   "id": "de67fd6c",
   "metadata": {},
   "outputs": [],
   "source": [
    "# One sample t-test\n",
    "# two-tailed (non directional)"
   ]
  },
  {
   "cell_type": "markdown",
   "id": "2c289057",
   "metadata": {},
   "source": [
    "- Are adults who drink milk taller than adults who dont drink milk?"
   ]
  },
  {
   "cell_type": "code",
   "execution_count": null,
   "id": "99aa8a8c",
   "metadata": {},
   "outputs": [],
   "source": [
    "# Independent t-test (or 2-sample)\n",
    "# one-tailed (directional)"
   ]
  },
  {
   "cell_type": "markdown",
   "id": "c0c9c54d",
   "metadata": {},
   "source": [
    "- Is the the price of gas higher in texas or in new mexico?"
   ]
  },
  {
   "cell_type": "code",
   "execution_count": null,
   "id": "08b68260",
   "metadata": {},
   "outputs": [],
   "source": [
    "# Independent t-test (or 2-sample)\n",
    "# one-tailed (directional)"
   ]
  },
  {
   "cell_type": "markdown",
   "id": "c3534dce",
   "metadata": {},
   "source": [
    "- Are there differences in stress levels between students who take data science vs students who take web development vs students who take cloud academy?"
   ]
  },
  {
   "cell_type": "code",
   "execution_count": null,
   "id": "0632b403",
   "metadata": {},
   "outputs": [],
   "source": [
    "# ANOVA\n",
    "# two-tailed (non directional)"
   ]
  },
  {
   "cell_type": "markdown",
   "id": "e212dfb9",
   "metadata": {},
   "source": [
    "### Ace Realty wants to determine whether the average time it takes to sell homes is different for its two offices. A sample of 40 sales from office #1 revealed a mean of 90 days and a standard deviation of 15 days. A sample of 50 sales from office #2 revealed a mean of 100 days and a standard deviation of 20 days. Use a .05 level of significance."
   ]
  },
  {
   "cell_type": "markdown",
   "id": "c0b564db",
   "metadata": {},
   "source": [
    "H$_O$ : Mean of time it takes to sell homes at office 1 = Mean of time it takes to sell homes at office 2\n",
    "\n",
    "H$_a$ : Mean of time it takes to sell homes at office 1 != Mean of time it takes to sell homes at office 2"
   ]
  },
  {
   "cell_type": "code",
   "execution_count": 74,
   "id": "cfadea16",
   "metadata": {},
   "outputs": [],
   "source": [
    "α = 0.05"
   ]
  },
  {
   "cell_type": "code",
   "execution_count": 3,
   "id": "f7864971",
   "metadata": {},
   "outputs": [],
   "source": [
    "μ_one = 90\n",
    "σ_one = 15\n",
    "\n",
    "μ_two = 100\n",
    "σ_two = 20"
   ]
  },
  {
   "cell_type": "code",
   "execution_count": 52,
   "id": "a414cf23",
   "metadata": {},
   "outputs": [],
   "source": [
    "office_one_sales = np.random.normal(μ_one, σ_one, size = 40)"
   ]
  },
  {
   "cell_type": "code",
   "execution_count": 53,
   "id": "bf37368e",
   "metadata": {},
   "outputs": [],
   "source": [
    "office_two_sales = np.random.normal(μ_two, σ_two, size = 50)"
   ]
  },
  {
   "cell_type": "code",
   "execution_count": 63,
   "id": "42028f83",
   "metadata": {},
   "outputs": [],
   "source": [
    "stat, p_levene = stats.levene(office_one_sales, office_two_sales)"
   ]
  },
  {
   "cell_type": "code",
   "execution_count": 64,
   "id": "92b5c15c",
   "metadata": {},
   "outputs": [
    {
     "data": {
      "text/plain": [
       "False"
      ]
     },
     "execution_count": 64,
     "metadata": {},
     "output_type": "execute_result"
    }
   ],
   "source": [
    "p_levene < α"
   ]
  },
  {
   "cell_type": "code",
   "execution_count": 57,
   "id": "cbd075a2",
   "metadata": {},
   "outputs": [],
   "source": [
    "t_stat, p_val = stats.ttest_ind_from_stats(\n",
    "    μ_one,\n",
    "    σ_one,\n",
    "    40,\n",
    "    μ_two,\n",
    "    σ_two,\n",
    "    50)"
   ]
  },
  {
   "cell_type": "code",
   "execution_count": 58,
   "id": "6f1df237",
   "metadata": {},
   "outputs": [
    {
     "data": {
      "text/plain": [
       "-2.6252287036468456"
      ]
     },
     "execution_count": 58,
     "metadata": {},
     "output_type": "execute_result"
    }
   ],
   "source": [
    "t_stat"
   ]
  },
  {
   "cell_type": "code",
   "execution_count": 59,
   "id": "65985be9",
   "metadata": {},
   "outputs": [
    {
     "data": {
      "text/plain": [
       "0.01020985244923939"
      ]
     },
     "execution_count": 59,
     "metadata": {},
     "output_type": "execute_result"
    }
   ],
   "source": [
    "p_val"
   ]
  },
  {
   "cell_type": "code",
   "execution_count": 60,
   "id": "90c35eac",
   "metadata": {},
   "outputs": [
    {
     "data": {
      "text/plain": [
       "True"
      ]
     },
     "execution_count": 60,
     "metadata": {},
     "output_type": "execute_result"
    }
   ],
   "source": [
    "p_val < α"
   ]
  },
  {
   "cell_type": "markdown",
   "id": "cfc31700",
   "metadata": {},
   "source": [
    " I can reject my null hypothesis because p_val is less than alpha."
   ]
  },
  {
   "cell_type": "markdown",
   "id": "9f080fb6",
   "metadata": {},
   "source": [
    "### Load the mpg dataset and use it to answer the following questions:"
   ]
  },
  {
   "cell_type": "code",
   "execution_count": 18,
   "id": "9087e68a",
   "metadata": {},
   "outputs": [
    {
     "data": {
      "text/html": [
       "<div>\n",
       "<style scoped>\n",
       "    .dataframe tbody tr th:only-of-type {\n",
       "        vertical-align: middle;\n",
       "    }\n",
       "\n",
       "    .dataframe tbody tr th {\n",
       "        vertical-align: top;\n",
       "    }\n",
       "\n",
       "    .dataframe thead th {\n",
       "        text-align: right;\n",
       "    }\n",
       "</style>\n",
       "<table border=\"1\" class=\"dataframe\">\n",
       "  <thead>\n",
       "    <tr style=\"text-align: right;\">\n",
       "      <th></th>\n",
       "      <th>manufacturer</th>\n",
       "      <th>model</th>\n",
       "      <th>displ</th>\n",
       "      <th>year</th>\n",
       "      <th>cyl</th>\n",
       "      <th>trans</th>\n",
       "      <th>drv</th>\n",
       "      <th>cty</th>\n",
       "      <th>hwy</th>\n",
       "      <th>fl</th>\n",
       "      <th>class</th>\n",
       "    </tr>\n",
       "  </thead>\n",
       "  <tbody>\n",
       "    <tr>\n",
       "      <th>1</th>\n",
       "      <td>audi</td>\n",
       "      <td>a4</td>\n",
       "      <td>1.8</td>\n",
       "      <td>1999</td>\n",
       "      <td>4</td>\n",
       "      <td>auto(l5)</td>\n",
       "      <td>f</td>\n",
       "      <td>18</td>\n",
       "      <td>29</td>\n",
       "      <td>p</td>\n",
       "      <td>compact</td>\n",
       "    </tr>\n",
       "    <tr>\n",
       "      <th>2</th>\n",
       "      <td>audi</td>\n",
       "      <td>a4</td>\n",
       "      <td>1.8</td>\n",
       "      <td>1999</td>\n",
       "      <td>4</td>\n",
       "      <td>manual(m5)</td>\n",
       "      <td>f</td>\n",
       "      <td>21</td>\n",
       "      <td>29</td>\n",
       "      <td>p</td>\n",
       "      <td>compact</td>\n",
       "    </tr>\n",
       "    <tr>\n",
       "      <th>3</th>\n",
       "      <td>audi</td>\n",
       "      <td>a4</td>\n",
       "      <td>2.0</td>\n",
       "      <td>2008</td>\n",
       "      <td>4</td>\n",
       "      <td>manual(m6)</td>\n",
       "      <td>f</td>\n",
       "      <td>20</td>\n",
       "      <td>31</td>\n",
       "      <td>p</td>\n",
       "      <td>compact</td>\n",
       "    </tr>\n",
       "    <tr>\n",
       "      <th>4</th>\n",
       "      <td>audi</td>\n",
       "      <td>a4</td>\n",
       "      <td>2.0</td>\n",
       "      <td>2008</td>\n",
       "      <td>4</td>\n",
       "      <td>auto(av)</td>\n",
       "      <td>f</td>\n",
       "      <td>21</td>\n",
       "      <td>30</td>\n",
       "      <td>p</td>\n",
       "      <td>compact</td>\n",
       "    </tr>\n",
       "    <tr>\n",
       "      <th>5</th>\n",
       "      <td>audi</td>\n",
       "      <td>a4</td>\n",
       "      <td>2.8</td>\n",
       "      <td>1999</td>\n",
       "      <td>6</td>\n",
       "      <td>auto(l5)</td>\n",
       "      <td>f</td>\n",
       "      <td>16</td>\n",
       "      <td>26</td>\n",
       "      <td>p</td>\n",
       "      <td>compact</td>\n",
       "    </tr>\n",
       "  </tbody>\n",
       "</table>\n",
       "</div>"
      ],
      "text/plain": [
       "  manufacturer model  displ  year  cyl       trans drv  cty  hwy fl    class\n",
       "1         audi    a4    1.8  1999    4    auto(l5)   f   18   29  p  compact\n",
       "2         audi    a4    1.8  1999    4  manual(m5)   f   21   29  p  compact\n",
       "3         audi    a4    2.0  2008    4  manual(m6)   f   20   31  p  compact\n",
       "4         audi    a4    2.0  2008    4    auto(av)   f   21   30  p  compact\n",
       "5         audi    a4    2.8  1999    6    auto(l5)   f   16   26  p  compact"
      ]
     },
     "execution_count": 18,
     "metadata": {},
     "output_type": "execute_result"
    }
   ],
   "source": [
    "mpg = data('mpg')\n",
    "mpg.head()"
   ]
  },
  {
   "cell_type": "markdown",
   "id": "0d69b788",
   "metadata": {},
   "source": [
    "- Is there a difference in fuel-efficiency in cars from 2008 vs 1999?"
   ]
  },
  {
   "cell_type": "code",
   "execution_count": 19,
   "id": "2187a252",
   "metadata": {},
   "outputs": [
    {
     "data": {
      "text/html": [
       "<div>\n",
       "<style scoped>\n",
       "    .dataframe tbody tr th:only-of-type {\n",
       "        vertical-align: middle;\n",
       "    }\n",
       "\n",
       "    .dataframe tbody tr th {\n",
       "        vertical-align: top;\n",
       "    }\n",
       "\n",
       "    .dataframe thead th {\n",
       "        text-align: right;\n",
       "    }\n",
       "</style>\n",
       "<table border=\"1\" class=\"dataframe\">\n",
       "  <thead>\n",
       "    <tr style=\"text-align: right;\">\n",
       "      <th></th>\n",
       "      <th>manufacturer</th>\n",
       "      <th>model</th>\n",
       "      <th>displ</th>\n",
       "      <th>year</th>\n",
       "      <th>cyl</th>\n",
       "      <th>trans</th>\n",
       "      <th>drv</th>\n",
       "      <th>cty</th>\n",
       "      <th>hwy</th>\n",
       "      <th>fl</th>\n",
       "      <th>class</th>\n",
       "      <th>avg_eff</th>\n",
       "    </tr>\n",
       "  </thead>\n",
       "  <tbody>\n",
       "    <tr>\n",
       "      <th>1</th>\n",
       "      <td>audi</td>\n",
       "      <td>a4</td>\n",
       "      <td>1.8</td>\n",
       "      <td>1999</td>\n",
       "      <td>4</td>\n",
       "      <td>auto(l5)</td>\n",
       "      <td>f</td>\n",
       "      <td>18</td>\n",
       "      <td>29</td>\n",
       "      <td>p</td>\n",
       "      <td>compact</td>\n",
       "      <td>23.5</td>\n",
       "    </tr>\n",
       "    <tr>\n",
       "      <th>2</th>\n",
       "      <td>audi</td>\n",
       "      <td>a4</td>\n",
       "      <td>1.8</td>\n",
       "      <td>1999</td>\n",
       "      <td>4</td>\n",
       "      <td>manual(m5)</td>\n",
       "      <td>f</td>\n",
       "      <td>21</td>\n",
       "      <td>29</td>\n",
       "      <td>p</td>\n",
       "      <td>compact</td>\n",
       "      <td>25.0</td>\n",
       "    </tr>\n",
       "    <tr>\n",
       "      <th>3</th>\n",
       "      <td>audi</td>\n",
       "      <td>a4</td>\n",
       "      <td>2.0</td>\n",
       "      <td>2008</td>\n",
       "      <td>4</td>\n",
       "      <td>manual(m6)</td>\n",
       "      <td>f</td>\n",
       "      <td>20</td>\n",
       "      <td>31</td>\n",
       "      <td>p</td>\n",
       "      <td>compact</td>\n",
       "      <td>25.5</td>\n",
       "    </tr>\n",
       "    <tr>\n",
       "      <th>4</th>\n",
       "      <td>audi</td>\n",
       "      <td>a4</td>\n",
       "      <td>2.0</td>\n",
       "      <td>2008</td>\n",
       "      <td>4</td>\n",
       "      <td>auto(av)</td>\n",
       "      <td>f</td>\n",
       "      <td>21</td>\n",
       "      <td>30</td>\n",
       "      <td>p</td>\n",
       "      <td>compact</td>\n",
       "      <td>25.5</td>\n",
       "    </tr>\n",
       "    <tr>\n",
       "      <th>5</th>\n",
       "      <td>audi</td>\n",
       "      <td>a4</td>\n",
       "      <td>2.8</td>\n",
       "      <td>1999</td>\n",
       "      <td>6</td>\n",
       "      <td>auto(l5)</td>\n",
       "      <td>f</td>\n",
       "      <td>16</td>\n",
       "      <td>26</td>\n",
       "      <td>p</td>\n",
       "      <td>compact</td>\n",
       "      <td>21.0</td>\n",
       "    </tr>\n",
       "  </tbody>\n",
       "</table>\n",
       "</div>"
      ],
      "text/plain": [
       "  manufacturer model  displ  year  cyl       trans drv  cty  hwy fl    class  \\\n",
       "1         audi    a4    1.8  1999    4    auto(l5)   f   18   29  p  compact   \n",
       "2         audi    a4    1.8  1999    4  manual(m5)   f   21   29  p  compact   \n",
       "3         audi    a4    2.0  2008    4  manual(m6)   f   20   31  p  compact   \n",
       "4         audi    a4    2.0  2008    4    auto(av)   f   21   30  p  compact   \n",
       "5         audi    a4    2.8  1999    6    auto(l5)   f   16   26  p  compact   \n",
       "\n",
       "   avg_eff  \n",
       "1     23.5  \n",
       "2     25.0  \n",
       "3     25.5  \n",
       "4     25.5  \n",
       "5     21.0  "
      ]
     },
     "execution_count": 19,
     "metadata": {},
     "output_type": "execute_result"
    }
   ],
   "source": [
    "#create a new column displaying avg fuel efficiency\n",
    "mpg['avg_eff'] = (mpg.cty + mpg.hwy) / 2\n",
    "mpg.head()"
   ]
  },
  {
   "cell_type": "code",
   "execution_count": null,
   "id": "8d1542c3",
   "metadata": {},
   "outputs": [],
   "source": [
    "#My two groups of comparision: \n",
    "# - fuel efficiency of 1999 cars\n",
    "# - fuel efficiency of 2008 cars"
   ]
  },
  {
   "cell_type": "code",
   "execution_count": 22,
   "id": "db37bedd",
   "metadata": {},
   "outputs": [],
   "source": [
    "#Determine samples\n",
    "\n",
    "older_cars_eff = mpg[mpg.year == 1999].avg_eff\n",
    "\n",
    "newer_cars_eff = mpg[mpg.year == 2008].avg_eff"
   ]
  },
  {
   "cell_type": "markdown",
   "id": "7c02e1d9",
   "metadata": {},
   "source": [
    "H$_0$: 1999 cars efficiency = to the efficiency of 2008 cars\n",
    "\n",
    "H$_a$: 1999 cars have a difference in efficiency than 2008 cars"
   ]
  },
  {
   "cell_type": "code",
   "execution_count": 65,
   "id": "229fc7bf",
   "metadata": {},
   "outputs": [],
   "source": [
    "stat, p_val = stats.levene(older_cars_eff, newer_cars_eff)"
   ]
  },
  {
   "cell_type": "code",
   "execution_count": 66,
   "id": "744e7469",
   "metadata": {},
   "outputs": [
    {
     "data": {
      "text/plain": [
       "False"
      ]
     },
     "execution_count": 66,
     "metadata": {},
     "output_type": "execute_result"
    }
   ],
   "source": [
    "p_val < α"
   ]
  },
  {
   "cell_type": "code",
   "execution_count": 24,
   "id": "4c83d8ab",
   "metadata": {},
   "outputs": [
    {
     "data": {
      "text/plain": [
       "(0.21960177245940962, 0.8263750772060638)"
      ]
     },
     "execution_count": 24,
     "metadata": {},
     "output_type": "execute_result"
    }
   ],
   "source": [
    "t_stat, p_val = stats.ttest_ind(older_cars_eff, newer_cars_eff, equal_var=False)\n",
    "t_stat, p_val"
   ]
  },
  {
   "cell_type": "code",
   "execution_count": 68,
   "id": "9e05dc46",
   "metadata": {},
   "outputs": [
    {
     "name": "stdout",
     "output_type": "stream",
     "text": [
      "is p_val < alpha?  False\n"
     ]
    }
   ],
   "source": [
    "print(\"is p_val < alpha? \", p_val < α)"
   ]
  },
  {
   "cell_type": "markdown",
   "id": "89c5af83",
   "metadata": {},
   "source": [
    "I cannot reject my null hypothesis."
   ]
  },
  {
   "cell_type": "markdown",
   "id": "682889f2",
   "metadata": {},
   "source": [
    "- Are compact cars more fuel-efficient than the average car?"
   ]
  },
  {
   "cell_type": "code",
   "execution_count": null,
   "id": "9ef7b8c1",
   "metadata": {},
   "outputs": [],
   "source": [
    "#My two groups of comparision: \n",
    "# - fuel efficiency compact cars\n",
    "# - fuel efficiency of the avg car"
   ]
  },
  {
   "cell_type": "code",
   "execution_count": 35,
   "id": "2d15a1f3",
   "metadata": {},
   "outputs": [],
   "source": [
    "#Determine samples\n",
    "\n",
    "comp_cars_eff = mpg[mpg['class'] == 'compact'].avg_eff\n",
    "\n",
    "μth = mpg.avg_eff.mean()"
   ]
  },
  {
   "cell_type": "markdown",
   "id": "9c390265",
   "metadata": {},
   "source": [
    "H$_0$: compact cars are as efficient as the avg car\n",
    "\n",
    "H$_a$: compact cars are more efficient than the avg car"
   ]
  },
  {
   "cell_type": "code",
   "execution_count": 70,
   "id": "470eb0d1",
   "metadata": {},
   "outputs": [],
   "source": [
    "t_stat, p_val = stats.ttest_1samp(comp_cars_eff, μth)"
   ]
  },
  {
   "cell_type": "code",
   "execution_count": 71,
   "id": "6adef4b6",
   "metadata": {},
   "outputs": [
    {
     "data": {
      "text/plain": [
       "7.896888573132533"
      ]
     },
     "execution_count": 71,
     "metadata": {},
     "output_type": "execute_result"
    }
   ],
   "source": [
    "t_stat"
   ]
  },
  {
   "cell_type": "code",
   "execution_count": 76,
   "id": "45e2d5b5",
   "metadata": {},
   "outputs": [
    {
     "data": {
      "text/plain": [
       "4.1985637943171486e-10"
      ]
     },
     "execution_count": 76,
     "metadata": {},
     "output_type": "execute_result"
    }
   ],
   "source": [
    "p_val"
   ]
  },
  {
   "cell_type": "code",
   "execution_count": 82,
   "id": "45be5882",
   "metadata": {},
   "outputs": [
    {
     "data": {
      "text/plain": [
       "2.0992818971585743e-10"
      ]
     },
     "execution_count": 82,
     "metadata": {},
     "output_type": "execute_result"
    }
   ],
   "source": [
    "p_val / 2"
   ]
  },
  {
   "cell_type": "markdown",
   "id": "6edbab13",
   "metadata": {},
   "source": [
    "For a 1-tailed test where our alternative hypothesis is testing for \"greater than\", we evaluate 𝑝/2 < 𝛼 and 𝑡 > 0.\n",
    "Therefore we can reject the hypothesis becuase p_val/2 is > the alpha of .05,  and t_stat > 0"
   ]
  },
  {
   "cell_type": "markdown",
   "id": "b2223c19",
   "metadata": {},
   "source": [
    "- Do manual cars get better gas mileage than automatic cars?"
   ]
  },
  {
   "cell_type": "code",
   "execution_count": null,
   "id": "1881aae6",
   "metadata": {},
   "outputs": [],
   "source": [
    "# groups for testing:\n",
    "# - manual trans cars\n",
    "# - auto trans cars\n",
    "\n",
    "#two sample because there are two explicit subcategories of vehicles\n",
    "#one tailed because we are aplying directionality to our diffence: >"
   ]
  },
  {
   "cell_type": "markdown",
   "id": "6cb40ef4",
   "metadata": {},
   "source": [
    "H$_0$: manual car efficiency <= auto car efficiency\n",
    "\n",
    "H$_a$: manual car efficiency > auto car efficiency"
   ]
  },
  {
   "cell_type": "code",
   "execution_count": 44,
   "id": "39faf88c",
   "metadata": {},
   "outputs": [],
   "source": [
    "# create new column with boolean values for auto or manual transmission\n",
    "mpg['auto_trans'] = mpg.trans.str.startswith('auto')"
   ]
  },
  {
   "cell_type": "code",
   "execution_count": 46,
   "id": "f69c43dc",
   "metadata": {},
   "outputs": [],
   "source": [
    "#determine samples\n",
    "auto_eff = mpg[mpg['auto_trans'] == True].avg_eff\n",
    "\n",
    "manual_eff = mpg[mpg['auto_trans'] == False].avg_eff"
   ]
  },
  {
   "cell_type": "code",
   "execution_count": 47,
   "id": "a50efa76",
   "metadata": {},
   "outputs": [
    {
     "name": "stdout",
     "output_type": "stream",
     "text": [
      "21.942777233382337\n",
      "26.635167464114826\n"
     ]
    }
   ],
   "source": [
    "#check varience\n",
    "print(auto_eff.var())\n",
    "print(manual_eff.var())"
   ]
  },
  {
   "cell_type": "code",
   "execution_count": 83,
   "id": "ca31978e",
   "metadata": {},
   "outputs": [
    {
     "data": {
      "text/plain": [
       "(4.443514012903072, 1.7952248999917893e-05)"
      ]
     },
     "execution_count": 83,
     "metadata": {},
     "output_type": "execute_result"
    }
   ],
   "source": [
    "t_stat, p_val = stats.ttest_ind(manual_eff, auto_eff, equal_var=False)\n",
    "t_stat, p_val"
   ]
  },
  {
   "cell_type": "code",
   "execution_count": 85,
   "id": "95430f33",
   "metadata": {},
   "outputs": [
    {
     "name": "stdout",
     "output_type": "stream",
     "text": [
      "is p_val/2 < alpha?  False\n",
      "is t_stat > 0?  True\n"
     ]
    }
   ],
   "source": [
    "print(\"is p_val/2 < alpha? \", (1.795 / 2) < α)\n",
    "print(\"is t_stat > 0? \", t_stat > 0)"
   ]
  },
  {
   "cell_type": "markdown",
   "id": "6bf77f34",
   "metadata": {},
   "source": [
    "For a 1-tailed test where our alternative hypothesis is testing for \"greater than\", we evaluate 𝑝/2 < 𝛼 and 𝑡 > 0. Therefore we can reject the Null hypothesis becuase p_val/2 is not < the alpha of .05, and t_stat > 0"
   ]
  },
  {
   "cell_type": "code",
   "execution_count": null,
   "id": "839e1305",
   "metadata": {},
   "outputs": [],
   "source": []
  }
 ],
 "metadata": {
  "kernelspec": {
   "display_name": "Python 3 (ipykernel)",
   "language": "python",
   "name": "python3"
  },
  "language_info": {
   "codemirror_mode": {
    "name": "ipython",
    "version": 3
   },
   "file_extension": ".py",
   "mimetype": "text/x-python",
   "name": "python",
   "nbconvert_exporter": "python",
   "pygments_lexer": "ipython3",
   "version": "3.9.13"
  }
 },
 "nbformat": 4,
 "nbformat_minor": 5
}
