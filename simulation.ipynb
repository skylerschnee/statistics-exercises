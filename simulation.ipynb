{
 "cells": [
  {
   "cell_type": "markdown",
   "id": "8a29da73",
   "metadata": {},
   "source": [
    "## Statistics"
   ]
  },
  {
   "cell_type": "code",
   "execution_count": 115,
   "id": "44640491",
   "metadata": {},
   "outputs": [],
   "source": [
    "%matplotlib inline\n",
    "import numpy as np\n",
    "import pandas as pd\n",
    "import random\n",
    "np.random.seed(29)"
   ]
  },
  {
   "cell_type": "markdown",
   "id": "f6742000",
   "metadata": {},
   "source": [
    "#### How likely is it that you roll doubles when rolling two dice?"
   ]
  },
  {
   "cell_type": "code",
   "execution_count": 269,
   "id": "5afd7b14",
   "metadata": {},
   "outputs": [
    {
     "data": {
      "text/plain": [
       "array([[1, 6],\n",
       "       [6, 3],\n",
       "       [6, 2],\n",
       "       ...,\n",
       "       [6, 6],\n",
       "       [3, 2],\n",
       "       [6, 4]])"
      ]
     },
     "execution_count": 269,
     "metadata": {},
     "output_type": "execute_result"
    }
   ],
   "source": [
    "outcomes = [1, 2, 3, 4, 5, 6]\n",
    "\n",
    "rolls = np.random.choice(outcomes, size = (10000, 2))\n",
    "\n",
    "rolls"
   ]
  },
  {
   "cell_type": "code",
   "execution_count": 273,
   "id": "efd346c4",
   "metadata": {},
   "outputs": [
    {
     "data": {
      "text/html": [
       "<div>\n",
       "<style scoped>\n",
       "    .dataframe tbody tr th:only-of-type {\n",
       "        vertical-align: middle;\n",
       "    }\n",
       "\n",
       "    .dataframe tbody tr th {\n",
       "        vertical-align: top;\n",
       "    }\n",
       "\n",
       "    .dataframe thead th {\n",
       "        text-align: right;\n",
       "    }\n",
       "</style>\n",
       "<table border=\"1\" class=\"dataframe\">\n",
       "  <thead>\n",
       "    <tr style=\"text-align: right;\">\n",
       "      <th></th>\n",
       "      <th>0</th>\n",
       "      <th>1</th>\n",
       "    </tr>\n",
       "  </thead>\n",
       "  <tbody>\n",
       "    <tr>\n",
       "      <th>0</th>\n",
       "      <td>1</td>\n",
       "      <td>6</td>\n",
       "    </tr>\n",
       "    <tr>\n",
       "      <th>1</th>\n",
       "      <td>6</td>\n",
       "      <td>3</td>\n",
       "    </tr>\n",
       "    <tr>\n",
       "      <th>2</th>\n",
       "      <td>6</td>\n",
       "      <td>2</td>\n",
       "    </tr>\n",
       "    <tr>\n",
       "      <th>3</th>\n",
       "      <td>3</td>\n",
       "      <td>1</td>\n",
       "    </tr>\n",
       "    <tr>\n",
       "      <th>4</th>\n",
       "      <td>5</td>\n",
       "      <td>2</td>\n",
       "    </tr>\n",
       "    <tr>\n",
       "      <th>...</th>\n",
       "      <td>...</td>\n",
       "      <td>...</td>\n",
       "    </tr>\n",
       "    <tr>\n",
       "      <th>9995</th>\n",
       "      <td>1</td>\n",
       "      <td>1</td>\n",
       "    </tr>\n",
       "    <tr>\n",
       "      <th>9996</th>\n",
       "      <td>2</td>\n",
       "      <td>3</td>\n",
       "    </tr>\n",
       "    <tr>\n",
       "      <th>9997</th>\n",
       "      <td>6</td>\n",
       "      <td>6</td>\n",
       "    </tr>\n",
       "    <tr>\n",
       "      <th>9998</th>\n",
       "      <td>3</td>\n",
       "      <td>2</td>\n",
       "    </tr>\n",
       "    <tr>\n",
       "      <th>9999</th>\n",
       "      <td>6</td>\n",
       "      <td>4</td>\n",
       "    </tr>\n",
       "  </tbody>\n",
       "</table>\n",
       "<p>10000 rows × 2 columns</p>\n",
       "</div>"
      ],
      "text/plain": [
       "      0  1\n",
       "0     1  6\n",
       "1     6  3\n",
       "2     6  2\n",
       "3     3  1\n",
       "4     5  2\n",
       "...  .. ..\n",
       "9995  1  1\n",
       "9996  2  3\n",
       "9997  6  6\n",
       "9998  3  2\n",
       "9999  6  4\n",
       "\n",
       "[10000 rows x 2 columns]"
      ]
     },
     "execution_count": 273,
     "metadata": {},
     "output_type": "execute_result"
    }
   ],
   "source": [
    "rolls_df = pd.DataFrame(rolls)\n",
    "rolls_df"
   ]
  },
  {
   "cell_type": "code",
   "execution_count": 276,
   "id": "5bde0725",
   "metadata": {},
   "outputs": [
    {
     "data": {
      "text/plain": [
       "0.1646"
      ]
     },
     "execution_count": 276,
     "metadata": {},
     "output_type": "execute_result"
    }
   ],
   "source": [
    "(rolls_df[0] == rolls_df[1]).mean()"
   ]
  },
  {
   "cell_type": "markdown",
   "id": "44d1a6fa",
   "metadata": {},
   "source": [
    "#### If you flip 8 coins, what is the probability of getting exactly 3 heads? What is the probability of getting more than 3 heads?"
   ]
  },
  {
   "cell_type": "code",
   "execution_count": 284,
   "id": "30c517f7",
   "metadata": {},
   "outputs": [
    {
     "data": {
      "text/plain": [
       "array([['h', 'h', 'h', ..., 't', 'h', 'h'],\n",
       "       ['t', 'h', 'h', ..., 't', 'h', 't'],\n",
       "       ['t', 't', 'h', ..., 't', 't', 't'],\n",
       "       ...,\n",
       "       ['t', 'h', 'h', ..., 't', 't', 't'],\n",
       "       ['h', 'h', 't', ..., 't', 'h', 'h'],\n",
       "       ['h', 'h', 't', ..., 'h', 'h', 't']], dtype='<U1')"
      ]
     },
     "execution_count": 284,
     "metadata": {},
     "output_type": "execute_result"
    }
   ],
   "source": [
    "flips = np.random.choice(['h', 't'], size = (10000, 8))\n",
    "flips"
   ]
  },
  {
   "cell_type": "code",
   "execution_count": 285,
   "id": "6b2c0f58",
   "metadata": {},
   "outputs": [
    {
     "data": {
      "text/plain": [
       "array([[1, 1, 1, ..., 0, 1, 1],\n",
       "       [0, 1, 1, ..., 0, 1, 0],\n",
       "       [0, 0, 1, ..., 0, 0, 0],\n",
       "       ...,\n",
       "       [0, 1, 1, ..., 0, 0, 0],\n",
       "       [1, 1, 0, ..., 0, 1, 1],\n",
       "       [1, 1, 0, ..., 1, 1, 0]])"
      ]
     },
     "execution_count": 285,
     "metadata": {},
     "output_type": "execute_result"
    }
   ],
   "source": [
    "count_of_heads = np.char.count(flips, 'h')\n",
    "count_of_heads"
   ]
  },
  {
   "cell_type": "code",
   "execution_count": 286,
   "id": "feaf6333",
   "metadata": {},
   "outputs": [
    {
     "data": {
      "text/plain": [
       "array([6, 4, 1, ..., 3, 4, 4])"
      ]
     },
     "execution_count": 286,
     "metadata": {},
     "output_type": "execute_result"
    }
   ],
   "source": [
    "sums_by_trial = count_of_heads.sum(axis = 1)\n",
    "sums_by_trial"
   ]
  },
  {
   "cell_type": "code",
   "execution_count": 287,
   "id": "e45e155a",
   "metadata": {},
   "outputs": [
    {
     "data": {
      "text/plain": [
       "array([False, False, False, ...,  True, False, False])"
      ]
     },
     "execution_count": 287,
     "metadata": {},
     "output_type": "execute_result"
    }
   ],
   "source": [
    "three_heads = (sums_by_trial == 3)\n",
    "three_heads"
   ]
  },
  {
   "cell_type": "code",
   "execution_count": 288,
   "id": "1f9ba771",
   "metadata": {},
   "outputs": [
    {
     "data": {
      "text/plain": [
       "0.218"
      ]
     },
     "execution_count": 288,
     "metadata": {},
     "output_type": "execute_result"
    }
   ],
   "source": [
    "flip_rate = three_heads.astype(int).mean()\n",
    "flip_rate"
   ]
  },
  {
   "cell_type": "code",
   "execution_count": 289,
   "id": "18a1b785",
   "metadata": {},
   "outputs": [
    {
     "data": {
      "text/plain": [
       "array([ True,  True, False, ..., False,  True,  True])"
      ]
     },
     "execution_count": 289,
     "metadata": {},
     "output_type": "execute_result"
    }
   ],
   "source": [
    "more_than_three_heads = (sums_by_trial > 3)\n",
    "more_than_three_heads"
   ]
  },
  {
   "cell_type": "code",
   "execution_count": 290,
   "id": "d2df2429",
   "metadata": {},
   "outputs": [
    {
     "data": {
      "text/plain": [
       "0.6369"
      ]
     },
     "execution_count": 290,
     "metadata": {},
     "output_type": "execute_result"
    }
   ],
   "source": [
    "flip_rate_two = more_than_three_heads.astype(int).mean()\n",
    "flip_rate_two"
   ]
  },
  {
   "cell_type": "markdown",
   "id": "3eb20f33",
   "metadata": {},
   "source": [
    "#### There are approximitely 3 web development cohorts for every 1 data science cohort at Codeup. Assuming that Codeup randomly selects an alumni to put on a billboard, what are the odds that the two billboards I drive past both have data science students on them?"
   ]
  },
  {
   "cell_type": "code",
   "execution_count": 306,
   "id": "f436f04a",
   "metadata": {},
   "outputs": [
    {
     "data": {
      "text/plain": [
       "array([['WD', 'WD'],\n",
       "       ['WD', 'WD'],\n",
       "       ['WD', 'DS'],\n",
       "       ...,\n",
       "       ['DS', 'WD'],\n",
       "       ['WD', 'WD'],\n",
       "       ['WD', 'DS']], dtype='<U2')"
      ]
     },
     "execution_count": 306,
     "metadata": {},
     "output_type": "execute_result"
    }
   ],
   "source": [
    "# set probability\n",
    "\n",
    "p_webdev = 0.75\n",
    "p_ds = 0.25\n",
    "billboard_options = ['WD', 'DS']\n",
    "\n",
    "billboards = np.random.choice(billboard_options, size = (10000, 2), p = [0.75, 0.25])\n",
    "billboards"
   ]
  },
  {
   "cell_type": "code",
   "execution_count": 307,
   "id": "ccfb7319",
   "metadata": {},
   "outputs": [
    {
     "data": {
      "text/plain": [
       "array([[False, False],\n",
       "       [False, False],\n",
       "       [False,  True],\n",
       "       ...,\n",
       "       [ True, False],\n",
       "       [False, False],\n",
       "       [False,  True]])"
      ]
     },
     "execution_count": 307,
     "metadata": {},
     "output_type": "execute_result"
    }
   ],
   "source": [
    "billboards == 'DS'"
   ]
  },
  {
   "cell_type": "code",
   "execution_count": 309,
   "id": "3ff1a949",
   "metadata": {},
   "outputs": [],
   "source": [
    "success = ((billboards == 'DS').sum(axis = 1) == 2)"
   ]
  },
  {
   "cell_type": "code",
   "execution_count": 310,
   "id": "3fac7aa5",
   "metadata": {},
   "outputs": [
    {
     "data": {
      "text/plain": [
       "0.0612"
      ]
     },
     "execution_count": 310,
     "metadata": {},
     "output_type": "execute_result"
    }
   ],
   "source": [
    "success.mean()"
   ]
  },
  {
   "cell_type": "markdown",
   "id": "fa6f8598",
   "metadata": {},
   "source": [
    "- My way"
   ]
  },
  {
   "cell_type": "code",
   "execution_count": 296,
   "id": "6f067a4b",
   "metadata": {},
   "outputs": [],
   "source": [
    "cohorts = np.random.choice(['data', 'wd_one', 'wd_two', 'wd_three'], size = (10000, 2))"
   ]
  },
  {
   "cell_type": "code",
   "execution_count": 297,
   "id": "e454ec57",
   "metadata": {},
   "outputs": [
    {
     "data": {
      "text/plain": [
       "array([[0, 1],\n",
       "       [0, 0],\n",
       "       [0, 0],\n",
       "       ...,\n",
       "       [0, 1],\n",
       "       [0, 1],\n",
       "       [1, 0]])"
      ]
     },
     "execution_count": 297,
     "metadata": {},
     "output_type": "execute_result"
    }
   ],
   "source": [
    "count_of_data = np.char.count(cohorts, 'data')\n",
    "count_of_data"
   ]
  },
  {
   "cell_type": "code",
   "execution_count": 298,
   "id": "37c6c37b",
   "metadata": {},
   "outputs": [
    {
     "data": {
      "text/plain": [
       "array([1, 0, 0, ..., 1, 1, 1])"
      ]
     },
     "execution_count": 298,
     "metadata": {},
     "output_type": "execute_result"
    }
   ],
   "source": [
    "sums_by_trial = count_of_data.sum(axis = 1)\n",
    "sums_by_trial"
   ]
  },
  {
   "cell_type": "code",
   "execution_count": 299,
   "id": "996410b4",
   "metadata": {},
   "outputs": [
    {
     "data": {
      "text/plain": [
       "array([False, False, False, ..., False, False, False])"
      ]
     },
     "execution_count": 299,
     "metadata": {},
     "output_type": "execute_result"
    }
   ],
   "source": [
    "both_data = (sums_by_trial == 2)\n",
    "both_data"
   ]
  },
  {
   "cell_type": "code",
   "execution_count": 300,
   "id": "d7bf6da5",
   "metadata": {},
   "outputs": [
    {
     "data": {
      "text/plain": [
       "0.0655"
      ]
     },
     "execution_count": 300,
     "metadata": {},
     "output_type": "execute_result"
    }
   ],
   "source": [
    "both_data_rate = both_data.astype(int).mean()\n",
    "both_data_rate"
   ]
  },
  {
   "cell_type": "markdown",
   "id": "1a40fe31",
   "metadata": {},
   "source": [
    "#### Codeup students buy, on average, 3 poptart packages with a standard deviation of 1.5 a day from the snack vending machine. If on monday the machine is restocked with 17 poptart packages, how likely is it that I will be able to buy some poptarts on Friday afternoon? \n",
    "- (Remember, if you have mean and standard deviation, use the np.random.normal) You'll need to make a judgement call on how to handle some of your values"
   ]
  },
  {
   "cell_type": "code",
   "execution_count": 313,
   "id": "2903fa7f",
   "metadata": {},
   "outputs": [],
   "source": [
    "mean = 3\n",
    "sd = 1.5 \n",
    "\n",
    "# we will look at sales over 5 days\n",
    "n_days = 5"
   ]
  },
  {
   "cell_type": "code",
   "execution_count": 314,
   "id": "d2d70df5",
   "metadata": {},
   "outputs": [
    {
     "data": {
      "text/plain": [
       "array([[ 3.63147783,  1.91177869,  0.66372705,  3.97986281,  5.204228  ],\n",
       "       [ 3.15013711,  4.19480259,  1.15373771,  3.69387132,  6.55805423],\n",
       "       [ 4.02683806,  4.89790863,  3.64034655,  4.73573211, -0.05019664],\n",
       "       ...,\n",
       "       [ 3.30451472,  2.77085016,  1.10301542,  2.82293027,  3.66724451],\n",
       "       [ 0.4130108 ,  1.15469602,  0.82614324,  3.71624682,  0.0473768 ],\n",
       "       [ 6.05495774,  3.81845894,  2.80830275,  6.73197467,  3.26089884]])"
      ]
     },
     "execution_count": 314,
     "metadata": {},
     "output_type": "execute_result"
    }
   ],
   "source": [
    "poptart_sales = np.random.normal(mean, sd, size = (10000, n_days))\n",
    "poptart_sales"
   ]
  },
  {
   "cell_type": "code",
   "execution_count": 315,
   "id": "675d614a",
   "metadata": {},
   "outputs": [],
   "source": [
    "# Account for negative sales as that is not realistic for this scenario, can have negative sales\n",
    "\n",
    "poptart_sales[poptart_sales < 0] = 0"
   ]
  },
  {
   "cell_type": "code",
   "execution_count": 323,
   "id": "3800dd8b",
   "metadata": {},
   "outputs": [
    {
     "data": {
      "text/plain": [
       "array([15.39107439, 18.75060297, 17.30082535, ..., 13.66855509,\n",
       "        6.15747367, 22.67459295])"
      ]
     },
     "execution_count": 323,
     "metadata": {},
     "output_type": "execute_result"
    }
   ],
   "source": [
    "poptart_weekly_sales = poptart_sales.sum(axis = 1)\n",
    "poptart_weekly_sales"
   ]
  },
  {
   "cell_type": "code",
   "execution_count": 324,
   "id": "ae8b5590",
   "metadata": {},
   "outputs": [
    {
     "data": {
      "text/plain": [
       "0.7235"
      ]
     },
     "execution_count": 324,
     "metadata": {},
     "output_type": "execute_result"
    }
   ],
   "source": [
    "(poptart_weekly_sales < 17).mean()"
   ]
  },
  {
   "cell_type": "markdown",
   "id": "d87515ce",
   "metadata": {},
   "source": [
    "#### Compare Heights\n",
    "\n",
    "- Men have an average height of 178 cm and standard deviation of 8cm.\n",
    "- Women have a mean of 170, sd = 6cm.\n",
    "- Since you have means and standard deviations, you can use np.random.normal to generate observations.\n",
    "- If a man and woman are chosen at random, what is the likelihood the woman is taller than the man?"
   ]
  },
  {
   "cell_type": "code",
   "execution_count": 93,
   "id": "27de4c20",
   "metadata": {},
   "outputs": [
    {
     "data": {
      "text/plain": [
       "array([180.07598716, 188.06210761, 184.2413496 , ..., 179.30487776,\n",
       "       176.67426759, 174.81791076])"
      ]
     },
     "execution_count": 93,
     "metadata": {},
     "output_type": "execute_result"
    }
   ],
   "source": [
    "m_mu, m_sigma = 178, 8 # mean and standard deviation\n",
    "\n",
    "men_height = np.random.normal(m_mu, m_sigma, 10_000)\n",
    "men_height"
   ]
  },
  {
   "cell_type": "code",
   "execution_count": 94,
   "id": "df6d02a9",
   "metadata": {},
   "outputs": [
    {
     "data": {
      "text/plain": [
       "array([171.85365457, 161.73768498, 168.55782948, ..., 170.32338005,\n",
       "       177.97754167, 173.04849163])"
      ]
     },
     "execution_count": 94,
     "metadata": {},
     "output_type": "execute_result"
    }
   ],
   "source": [
    "f_mu, f_sigma = 170, 6 # mean and standard deviation\n",
    "fem_height = np.random.normal(f_mu, f_sigma, 10_000)\n",
    "fem_height"
   ]
  },
  {
   "cell_type": "code",
   "execution_count": 328,
   "id": "b88a05b0",
   "metadata": {},
   "outputs": [
    {
     "data": {
      "text/plain": [
       "array([False, False, False, ..., False,  True, False])"
      ]
     },
     "execution_count": 328,
     "metadata": {},
     "output_type": "execute_result"
    }
   ],
   "source": [
    "fem_height > men_height"
   ]
  },
  {
   "cell_type": "code",
   "execution_count": 329,
   "id": "38c1bae6",
   "metadata": {},
   "outputs": [
    {
     "data": {
      "text/plain": [
       "0.2198"
      ]
     },
     "execution_count": 329,
     "metadata": {},
     "output_type": "execute_result"
    }
   ],
   "source": [
    "taller_fem_rate = taller_fem.astype(int).mean()\n",
    "taller_fem_rate"
   ]
  },
  {
   "cell_type": "markdown",
   "id": "5f015de2",
   "metadata": {},
   "source": [
    "#### When installing anaconda on a student's computer, there's a 1 in 250 chance that the download is corrupted and the installation fails. What are the odds that after having 50 students download anaconda, no one has an installation issue? 100 students?"
   ]
  },
  {
   "cell_type": "code",
   "execution_count": 334,
   "id": "b3d35779",
   "metadata": {},
   "outputs": [
    {
     "data": {
      "text/plain": [
       "array([['s', 's', 's', ..., 's', 's', 's'],\n",
       "       ['s', 's', 's', ..., 's', 's', 's'],\n",
       "       ['s', 's', 's', ..., 's', 's', 's'],\n",
       "       ...,\n",
       "       ['s', 's', 's', ..., 's', 's', 's'],\n",
       "       ['s', 's', 's', ..., 's', 's', 's'],\n",
       "       ['s', 's', 's', ..., 's', 's', 's']], dtype='<U1')"
      ]
     },
     "execution_count": 334,
     "metadata": {},
     "output_type": "execute_result"
    }
   ],
   "source": [
    "# 1 in 250 or 1/250 = .004\n",
    "# 249 in 250 od 249/250 = .0996\n",
    "\n",
    "success = .996\n",
    "fail = .004\n",
    "n_students = 50 \n",
    "\n",
    "installs = np.random.choice(['s', 'f'], size = (10000, n_students), p = [0.996, 0.004])\n",
    "installs"
   ]
  },
  {
   "cell_type": "code",
   "execution_count": 339,
   "id": "a825979b",
   "metadata": {},
   "outputs": [
    {
     "data": {
      "text/plain": [
       "0.8164"
      ]
     },
     "execution_count": 339,
     "metadata": {},
     "output_type": "execute_result"
    }
   ],
   "source": [
    "((installs == 's').sum(axis = 1) == 50).mean()"
   ]
  },
  {
   "cell_type": "code",
   "execution_count": 341,
   "id": "1654b0de",
   "metadata": {},
   "outputs": [
    {
     "data": {
      "text/plain": [
       "array([['s', 's', 's', ..., 's', 's', 's'],\n",
       "       ['s', 's', 's', ..., 's', 's', 's'],\n",
       "       ['s', 's', 's', ..., 's', 's', 's'],\n",
       "       ...,\n",
       "       ['s', 's', 's', ..., 's', 's', 's'],\n",
       "       ['s', 's', 's', ..., 's', 's', 's'],\n",
       "       ['s', 's', 's', ..., 's', 's', 's']], dtype='<U1')"
      ]
     },
     "execution_count": 341,
     "metadata": {},
     "output_type": "execute_result"
    }
   ],
   "source": [
    "success = .996\n",
    "fail = .004\n",
    "n_students = 100 \n",
    "\n",
    "installs = np.random.choice(['s', 'f'], size = (10000, n_students), p = [0.996, 0.004])\n",
    "installs"
   ]
  },
  {
   "cell_type": "code",
   "execution_count": 342,
   "id": "d5519d78",
   "metadata": {},
   "outputs": [
    {
     "data": {
      "text/plain": [
       "0.6696"
      ]
     },
     "execution_count": 342,
     "metadata": {},
     "output_type": "execute_result"
    }
   ],
   "source": [
    "((installs == 's').sum(axis = 1) == 100).mean()"
   ]
  },
  {
   "cell_type": "markdown",
   "id": "0b8b9a41",
   "metadata": {},
   "source": [
    "#### What is the probability that we observe an installation issue within the first 150 students that download anaconda?"
   ]
  },
  {
   "cell_type": "code",
   "execution_count": 343,
   "id": "8de7b052",
   "metadata": {},
   "outputs": [],
   "source": [
    "installs = np.random.choice(['s', 'f'], size = (10000, 150), p = [0.996, 0.004])"
   ]
  },
  {
   "cell_type": "code",
   "execution_count": 345,
   "id": "d908a8c8",
   "metadata": {},
   "outputs": [],
   "source": [
    "bools = installs == 's'"
   ]
  },
  {
   "cell_type": "code",
   "execution_count": 347,
   "id": "f89a8fb4",
   "metadata": {},
   "outputs": [
    {
     "data": {
      "text/plain": [
       "array([150, 149, 150, ..., 150, 149, 149])"
      ]
     },
     "execution_count": 347,
     "metadata": {},
     "output_type": "execute_result"
    }
   ],
   "source": [
    "n_successful_installs = bools.sum(axis = 1)\n",
    "n_successful_installs"
   ]
  },
  {
   "cell_type": "code",
   "execution_count": 351,
   "id": "0371c993",
   "metadata": {},
   "outputs": [
    {
     "data": {
      "text/plain": [
       "0.4547"
      ]
     },
     "execution_count": 351,
     "metadata": {},
     "output_type": "execute_result"
    }
   ],
   "source": [
    "((bools.sum(axis=1)) < 150).mean()"
   ]
  },
  {
   "cell_type": "markdown",
   "id": "e5ad3514",
   "metadata": {},
   "source": [
    "#### How likely is it that 450 students all download anaconda without an issue?"
   ]
  },
  {
   "cell_type": "code",
   "execution_count": 356,
   "id": "cfce1586",
   "metadata": {},
   "outputs": [],
   "source": [
    "installs = np.random.choice(['s', 'f'], size = (10000, 450), p = [0.996, 0.004])"
   ]
  },
  {
   "cell_type": "code",
   "execution_count": 357,
   "id": "970186ad",
   "metadata": {},
   "outputs": [],
   "source": [
    "bools = installs == 's'"
   ]
  },
  {
   "cell_type": "code",
   "execution_count": 358,
   "id": "437fd518",
   "metadata": {},
   "outputs": [
    {
     "data": {
      "text/plain": [
       "array([449, 446, 449, ..., 445, 449, 446])"
      ]
     },
     "execution_count": 358,
     "metadata": {},
     "output_type": "execute_result"
    }
   ],
   "source": [
    "n_successful_installs = bools.sum(axis = 1)\n",
    "n_successful_installs"
   ]
  },
  {
   "cell_type": "code",
   "execution_count": 359,
   "id": "07aea5e0",
   "metadata": {},
   "outputs": [
    {
     "data": {
      "text/plain": [
       "0.1637"
      ]
     },
     "execution_count": 359,
     "metadata": {},
     "output_type": "execute_result"
    }
   ],
   "source": [
    "((bools.sum(axis = 1)) == 450).mean()"
   ]
  },
  {
   "cell_type": "markdown",
   "id": "6f6accad",
   "metadata": {},
   "source": [
    "#### There's a 70% chance on any given day that there will be at least one food truck at Travis Park. However, you haven't seen a food truck there in 3 days. How unlikely is this?"
   ]
  },
  {
   "cell_type": "code",
   "execution_count": 369,
   "id": "2074adee",
   "metadata": {},
   "outputs": [
    {
     "data": {
      "text/plain": [
       "array([[1, 0, 1],\n",
       "       [1, 1, 1],\n",
       "       [0, 1, 1],\n",
       "       ...,\n",
       "       [1, 0, 1],\n",
       "       [0, 1, 1],\n",
       "       [1, 0, 1]])"
      ]
     },
     "execution_count": 369,
     "metadata": {},
     "output_type": "execute_result"
    }
   ],
   "source": [
    "# assign outcomes:\n",
    "\n",
    "# 0 = no truck\n",
    "# 1 = truck present\n",
    "\n",
    "# probailities per the question:\n",
    "# 70% chance its there\n",
    "# 30% chance its not\n",
    "\n",
    "trucks = np.random.choice([0, 1], size= (10000, 3), p = [0.3, 0.7])\n",
    "trucks"
   ]
  },
  {
   "cell_type": "code",
   "execution_count": 370,
   "id": "266e9763",
   "metadata": {},
   "outputs": [
    {
     "data": {
      "text/plain": [
       "0.0252"
      ]
     },
     "execution_count": 370,
     "metadata": {},
     "output_type": "execute_result"
    }
   ],
   "source": [
    "# Probability that no truck shows up\n",
    "\n",
    "(trucks.sum(axis = 1) == 0).mean()"
   ]
  },
  {
   "cell_type": "code",
   "execution_count": 371,
   "id": "54d60f53",
   "metadata": {},
   "outputs": [
    {
     "data": {
      "text/plain": [
       "0.9748"
      ]
     },
     "execution_count": 371,
     "metadata": {},
     "output_type": "execute_result"
    }
   ],
   "source": [
    "# Probability that the truck shows up at least once\n",
    "\n",
    "(trucks.sum(axis = 1) >= 1).mean()"
   ]
  },
  {
   "cell_type": "markdown",
   "id": "2dc33c0b",
   "metadata": {},
   "source": [
    "#### How likely is it that a food truck will show up sometime this week?"
   ]
  },
  {
   "cell_type": "code",
   "execution_count": 372,
   "id": "118a75fb",
   "metadata": {},
   "outputs": [],
   "source": [
    "weekly_trucks = np.random.choice([0, 1], size= (10000, 8), p = [0.3, 0.7])"
   ]
  },
  {
   "cell_type": "code",
   "execution_count": 373,
   "id": "27e38a36",
   "metadata": {},
   "outputs": [
    {
     "data": {
      "text/plain": [
       "0.9999"
      ]
     },
     "execution_count": 373,
     "metadata": {},
     "output_type": "execute_result"
    }
   ],
   "source": [
    "(weekly_trucks.sum(axis = 1) > 0).mean()"
   ]
  },
  {
   "cell_type": "markdown",
   "id": "ae83aeea",
   "metadata": {},
   "source": [
    "#### If 23 people are in the same room, what are the odds that two of them share a birthday? What if it's 20 people? 40?"
   ]
  },
  {
   "cell_type": "code",
   "execution_count": 374,
   "id": "112d2bbc",
   "metadata": {},
   "outputs": [],
   "source": [
    "birthdates = range(0, 366)\n",
    "\n",
    "n_students = 23"
   ]
  },
  {
   "cell_type": "code",
   "execution_count": 377,
   "id": "6892087a",
   "metadata": {},
   "outputs": [
    {
     "data": {
      "text/plain": [
       "array([[116, 154, 204, ...,   2, 144,   1],\n",
       "       [309, 304, 151, ..., 117, 142, 124],\n",
       "       [230, 314, 241, ...,  40, 245, 328],\n",
       "       ...,\n",
       "       [363, 222, 127, ...,   4, 157, 237],\n",
       "       [330, 145, 126, ..., 317, 353, 288],\n",
       "       [115, 295, 285, ..., 108, 289, 311]])"
      ]
     },
     "execution_count": 377,
     "metadata": {},
     "output_type": "execute_result"
    }
   ],
   "source": [
    "birthday = np.random.choice(birthdates, size = (10000, 23))\n",
    "birthday"
   ]
  },
  {
   "cell_type": "code",
   "execution_count": 379,
   "id": "7ff9bd1c",
   "metadata": {},
   "outputs": [
    {
     "data": {
      "text/html": [
       "<div>\n",
       "<style scoped>\n",
       "    .dataframe tbody tr th:only-of-type {\n",
       "        vertical-align: middle;\n",
       "    }\n",
       "\n",
       "    .dataframe tbody tr th {\n",
       "        vertical-align: top;\n",
       "    }\n",
       "\n",
       "    .dataframe thead th {\n",
       "        text-align: right;\n",
       "    }\n",
       "</style>\n",
       "<table border=\"1\" class=\"dataframe\">\n",
       "  <thead>\n",
       "    <tr style=\"text-align: right;\">\n",
       "      <th></th>\n",
       "      <th>0</th>\n",
       "      <th>1</th>\n",
       "      <th>2</th>\n",
       "      <th>3</th>\n",
       "      <th>4</th>\n",
       "      <th>5</th>\n",
       "      <th>6</th>\n",
       "      <th>7</th>\n",
       "      <th>8</th>\n",
       "      <th>9</th>\n",
       "      <th>...</th>\n",
       "      <th>13</th>\n",
       "      <th>14</th>\n",
       "      <th>15</th>\n",
       "      <th>16</th>\n",
       "      <th>17</th>\n",
       "      <th>18</th>\n",
       "      <th>19</th>\n",
       "      <th>20</th>\n",
       "      <th>21</th>\n",
       "      <th>22</th>\n",
       "    </tr>\n",
       "  </thead>\n",
       "  <tbody>\n",
       "    <tr>\n",
       "      <th>0</th>\n",
       "      <td>116</td>\n",
       "      <td>154</td>\n",
       "      <td>204</td>\n",
       "      <td>322</td>\n",
       "      <td>175</td>\n",
       "      <td>311</td>\n",
       "      <td>148</td>\n",
       "      <td>359</td>\n",
       "      <td>357</td>\n",
       "      <td>217</td>\n",
       "      <td>...</td>\n",
       "      <td>12</td>\n",
       "      <td>90</td>\n",
       "      <td>146</td>\n",
       "      <td>156</td>\n",
       "      <td>59</td>\n",
       "      <td>93</td>\n",
       "      <td>14</td>\n",
       "      <td>2</td>\n",
       "      <td>144</td>\n",
       "      <td>1</td>\n",
       "    </tr>\n",
       "    <tr>\n",
       "      <th>1</th>\n",
       "      <td>309</td>\n",
       "      <td>304</td>\n",
       "      <td>151</td>\n",
       "      <td>310</td>\n",
       "      <td>126</td>\n",
       "      <td>256</td>\n",
       "      <td>195</td>\n",
       "      <td>78</td>\n",
       "      <td>78</td>\n",
       "      <td>102</td>\n",
       "      <td>...</td>\n",
       "      <td>290</td>\n",
       "      <td>0</td>\n",
       "      <td>20</td>\n",
       "      <td>110</td>\n",
       "      <td>345</td>\n",
       "      <td>59</td>\n",
       "      <td>238</td>\n",
       "      <td>117</td>\n",
       "      <td>142</td>\n",
       "      <td>124</td>\n",
       "    </tr>\n",
       "    <tr>\n",
       "      <th>2</th>\n",
       "      <td>230</td>\n",
       "      <td>314</td>\n",
       "      <td>241</td>\n",
       "      <td>228</td>\n",
       "      <td>316</td>\n",
       "      <td>133</td>\n",
       "      <td>199</td>\n",
       "      <td>344</td>\n",
       "      <td>331</td>\n",
       "      <td>22</td>\n",
       "      <td>...</td>\n",
       "      <td>283</td>\n",
       "      <td>187</td>\n",
       "      <td>364</td>\n",
       "      <td>33</td>\n",
       "      <td>347</td>\n",
       "      <td>307</td>\n",
       "      <td>127</td>\n",
       "      <td>40</td>\n",
       "      <td>245</td>\n",
       "      <td>328</td>\n",
       "    </tr>\n",
       "    <tr>\n",
       "      <th>3</th>\n",
       "      <td>53</td>\n",
       "      <td>304</td>\n",
       "      <td>126</td>\n",
       "      <td>5</td>\n",
       "      <td>323</td>\n",
       "      <td>240</td>\n",
       "      <td>167</td>\n",
       "      <td>208</td>\n",
       "      <td>252</td>\n",
       "      <td>215</td>\n",
       "      <td>...</td>\n",
       "      <td>178</td>\n",
       "      <td>135</td>\n",
       "      <td>173</td>\n",
       "      <td>293</td>\n",
       "      <td>323</td>\n",
       "      <td>3</td>\n",
       "      <td>260</td>\n",
       "      <td>288</td>\n",
       "      <td>222</td>\n",
       "      <td>348</td>\n",
       "    </tr>\n",
       "    <tr>\n",
       "      <th>4</th>\n",
       "      <td>282</td>\n",
       "      <td>221</td>\n",
       "      <td>186</td>\n",
       "      <td>164</td>\n",
       "      <td>27</td>\n",
       "      <td>332</td>\n",
       "      <td>301</td>\n",
       "      <td>208</td>\n",
       "      <td>26</td>\n",
       "      <td>340</td>\n",
       "      <td>...</td>\n",
       "      <td>288</td>\n",
       "      <td>151</td>\n",
       "      <td>57</td>\n",
       "      <td>117</td>\n",
       "      <td>80</td>\n",
       "      <td>325</td>\n",
       "      <td>339</td>\n",
       "      <td>298</td>\n",
       "      <td>362</td>\n",
       "      <td>135</td>\n",
       "    </tr>\n",
       "    <tr>\n",
       "      <th>...</th>\n",
       "      <td>...</td>\n",
       "      <td>...</td>\n",
       "      <td>...</td>\n",
       "      <td>...</td>\n",
       "      <td>...</td>\n",
       "      <td>...</td>\n",
       "      <td>...</td>\n",
       "      <td>...</td>\n",
       "      <td>...</td>\n",
       "      <td>...</td>\n",
       "      <td>...</td>\n",
       "      <td>...</td>\n",
       "      <td>...</td>\n",
       "      <td>...</td>\n",
       "      <td>...</td>\n",
       "      <td>...</td>\n",
       "      <td>...</td>\n",
       "      <td>...</td>\n",
       "      <td>...</td>\n",
       "      <td>...</td>\n",
       "      <td>...</td>\n",
       "    </tr>\n",
       "    <tr>\n",
       "      <th>9995</th>\n",
       "      <td>280</td>\n",
       "      <td>178</td>\n",
       "      <td>14</td>\n",
       "      <td>65</td>\n",
       "      <td>112</td>\n",
       "      <td>188</td>\n",
       "      <td>283</td>\n",
       "      <td>51</td>\n",
       "      <td>294</td>\n",
       "      <td>189</td>\n",
       "      <td>...</td>\n",
       "      <td>113</td>\n",
       "      <td>359</td>\n",
       "      <td>318</td>\n",
       "      <td>76</td>\n",
       "      <td>209</td>\n",
       "      <td>288</td>\n",
       "      <td>127</td>\n",
       "      <td>28</td>\n",
       "      <td>272</td>\n",
       "      <td>203</td>\n",
       "    </tr>\n",
       "    <tr>\n",
       "      <th>9996</th>\n",
       "      <td>351</td>\n",
       "      <td>29</td>\n",
       "      <td>207</td>\n",
       "      <td>31</td>\n",
       "      <td>365</td>\n",
       "      <td>86</td>\n",
       "      <td>285</td>\n",
       "      <td>175</td>\n",
       "      <td>3</td>\n",
       "      <td>68</td>\n",
       "      <td>...</td>\n",
       "      <td>43</td>\n",
       "      <td>286</td>\n",
       "      <td>114</td>\n",
       "      <td>113</td>\n",
       "      <td>154</td>\n",
       "      <td>221</td>\n",
       "      <td>245</td>\n",
       "      <td>44</td>\n",
       "      <td>319</td>\n",
       "      <td>315</td>\n",
       "    </tr>\n",
       "    <tr>\n",
       "      <th>9997</th>\n",
       "      <td>363</td>\n",
       "      <td>222</td>\n",
       "      <td>127</td>\n",
       "      <td>337</td>\n",
       "      <td>252</td>\n",
       "      <td>334</td>\n",
       "      <td>176</td>\n",
       "      <td>53</td>\n",
       "      <td>92</td>\n",
       "      <td>265</td>\n",
       "      <td>...</td>\n",
       "      <td>281</td>\n",
       "      <td>216</td>\n",
       "      <td>157</td>\n",
       "      <td>291</td>\n",
       "      <td>276</td>\n",
       "      <td>346</td>\n",
       "      <td>86</td>\n",
       "      <td>4</td>\n",
       "      <td>157</td>\n",
       "      <td>237</td>\n",
       "    </tr>\n",
       "    <tr>\n",
       "      <th>9998</th>\n",
       "      <td>330</td>\n",
       "      <td>145</td>\n",
       "      <td>126</td>\n",
       "      <td>50</td>\n",
       "      <td>221</td>\n",
       "      <td>0</td>\n",
       "      <td>18</td>\n",
       "      <td>145</td>\n",
       "      <td>268</td>\n",
       "      <td>193</td>\n",
       "      <td>...</td>\n",
       "      <td>344</td>\n",
       "      <td>75</td>\n",
       "      <td>75</td>\n",
       "      <td>279</td>\n",
       "      <td>62</td>\n",
       "      <td>90</td>\n",
       "      <td>50</td>\n",
       "      <td>317</td>\n",
       "      <td>353</td>\n",
       "      <td>288</td>\n",
       "    </tr>\n",
       "    <tr>\n",
       "      <th>9999</th>\n",
       "      <td>115</td>\n",
       "      <td>295</td>\n",
       "      <td>285</td>\n",
       "      <td>29</td>\n",
       "      <td>310</td>\n",
       "      <td>327</td>\n",
       "      <td>301</td>\n",
       "      <td>280</td>\n",
       "      <td>15</td>\n",
       "      <td>75</td>\n",
       "      <td>...</td>\n",
       "      <td>344</td>\n",
       "      <td>123</td>\n",
       "      <td>246</td>\n",
       "      <td>258</td>\n",
       "      <td>314</td>\n",
       "      <td>71</td>\n",
       "      <td>229</td>\n",
       "      <td>108</td>\n",
       "      <td>289</td>\n",
       "      <td>311</td>\n",
       "    </tr>\n",
       "  </tbody>\n",
       "</table>\n",
       "<p>10000 rows × 23 columns</p>\n",
       "</div>"
      ],
      "text/plain": [
       "       0    1    2    3    4    5    6    7    8    9   ...   13   14   15  \\\n",
       "0     116  154  204  322  175  311  148  359  357  217  ...   12   90  146   \n",
       "1     309  304  151  310  126  256  195   78   78  102  ...  290    0   20   \n",
       "2     230  314  241  228  316  133  199  344  331   22  ...  283  187  364   \n",
       "3      53  304  126    5  323  240  167  208  252  215  ...  178  135  173   \n",
       "4     282  221  186  164   27  332  301  208   26  340  ...  288  151   57   \n",
       "...   ...  ...  ...  ...  ...  ...  ...  ...  ...  ...  ...  ...  ...  ...   \n",
       "9995  280  178   14   65  112  188  283   51  294  189  ...  113  359  318   \n",
       "9996  351   29  207   31  365   86  285  175    3   68  ...   43  286  114   \n",
       "9997  363  222  127  337  252  334  176   53   92  265  ...  281  216  157   \n",
       "9998  330  145  126   50  221    0   18  145  268  193  ...  344   75   75   \n",
       "9999  115  295  285   29  310  327  301  280   15   75  ...  344  123  246   \n",
       "\n",
       "       16   17   18   19   20   21   22  \n",
       "0     156   59   93   14    2  144    1  \n",
       "1     110  345   59  238  117  142  124  \n",
       "2      33  347  307  127   40  245  328  \n",
       "3     293  323    3  260  288  222  348  \n",
       "4     117   80  325  339  298  362  135  \n",
       "...   ...  ...  ...  ...  ...  ...  ...  \n",
       "9995   76  209  288  127   28  272  203  \n",
       "9996  113  154  221  245   44  319  315  \n",
       "9997  291  276  346   86    4  157  237  \n",
       "9998  279   62   90   50  317  353  288  \n",
       "9999  258  314   71  229  108  289  311  \n",
       "\n",
       "[10000 rows x 23 columns]"
      ]
     },
     "execution_count": 379,
     "metadata": {},
     "output_type": "execute_result"
    }
   ],
   "source": [
    "birthdays_df = pd.DataFrame(birthday)\n",
    "birthdays_df"
   ]
  },
  {
   "cell_type": "code",
   "execution_count": 382,
   "id": "f2a52f96",
   "metadata": {},
   "outputs": [
    {
     "data": {
      "text/plain": [
       "0.5047"
      ]
     },
     "execution_count": 382,
     "metadata": {},
     "output_type": "execute_result"
    }
   ],
   "source": [
    "#check that the unique value count corresponds to someone sharing a birthday\n",
    "(birthdays_df.nunique(axis = 1) < 23).mean()"
   ]
  },
  {
   "cell_type": "code",
   "execution_count": 385,
   "id": "ba662f72",
   "metadata": {},
   "outputs": [],
   "source": [
    "#40 students\n",
    "birthday = np.random.choice(birthdates, size = (10000, 40))\n",
    "birthdays_df = pd.DataFrame(birthday)"
   ]
  },
  {
   "cell_type": "code",
   "execution_count": 386,
   "id": "841e0738",
   "metadata": {},
   "outputs": [
    {
     "data": {
      "text/plain": [
       "0.8926"
      ]
     },
     "execution_count": 386,
     "metadata": {},
     "output_type": "execute_result"
    }
   ],
   "source": [
    "(birthdays_df.nunique(axis = 1) < 40).mean()"
   ]
  },
  {
   "cell_type": "code",
   "execution_count": 387,
   "id": "d6292d29",
   "metadata": {},
   "outputs": [],
   "source": [
    "#20 students\n",
    "birthday = np.random.choice(birthdates, size = (10000, 20))\n",
    "birthdays_df = pd.DataFrame(birthday)"
   ]
  },
  {
   "cell_type": "code",
   "execution_count": 388,
   "id": "7f767eab",
   "metadata": {},
   "outputs": [
    {
     "data": {
      "text/plain": [
       "0.4081"
      ]
     },
     "execution_count": 388,
     "metadata": {},
     "output_type": "execute_result"
    }
   ],
   "source": [
    "(birthdays_df.nunique(axis = 1) < 20).mean()"
   ]
  }
 ],
 "metadata": {
  "kernelspec": {
   "display_name": "Python 3 (ipykernel)",
   "language": "python",
   "name": "python3"
  },
  "language_info": {
   "codemirror_mode": {
    "name": "ipython",
    "version": 3
   },
   "file_extension": ".py",
   "mimetype": "text/x-python",
   "name": "python",
   "nbconvert_exporter": "python",
   "pygments_lexer": "ipython3",
   "version": "3.9.13"
  }
 },
 "nbformat": 4,
 "nbformat_minor": 5
}
