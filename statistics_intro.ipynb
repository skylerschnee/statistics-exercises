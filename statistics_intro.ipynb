{
 "cells": [
  {
   "cell_type": "code",
   "execution_count": 1,
   "id": "11599ef1",
   "metadata": {},
   "outputs": [],
   "source": [
    "%matplotlib inline\n",
    "import numpy as np\n",
    "import pandas as pd\n",
    "import viz # curriculum example visualizations\n",
    "\n",
    "np.random.seed(29)"
   ]
  },
  {
   "cell_type": "code",
   "execution_count": 2,
   "id": "d31efca4",
   "metadata": {},
   "outputs": [
    {
     "data": {
      "text/plain": [
       "array([[6, 4, 5],\n",
       "       [6, 3, 1],\n",
       "       [1, 2, 2],\n",
       "       ...,\n",
       "       [6, 2, 1],\n",
       "       [3, 4, 3],\n",
       "       [4, 2, 4]])"
      ]
     },
     "execution_count": 2,
     "metadata": {},
     "output_type": "execute_result"
    }
   ],
   "source": [
    "n_trials = nrows = 10_000\n",
    "n_dice = ncols = 3\n",
    "\n",
    "rolls = np.random.choice([1, 2, 3, 4, 5, 6], n_trials * n_dice).reshape(nrows, ncols)\n",
    "rolls"
   ]
  },
  {
   "cell_type": "code",
   "execution_count": 3,
   "id": "f265cf2d",
   "metadata": {},
   "outputs": [
    {
     "data": {
      "text/plain": [
       "array([[6, 3, 4],\n",
       "       [5, 3, 5],\n",
       "       [6, 1, 3],\n",
       "       ...,\n",
       "       [4, 1, 3],\n",
       "       [3, 6, 5],\n",
       "       [3, 2, 6]])"
      ]
     },
     "execution_count": 3,
     "metadata": {},
     "output_type": "execute_result"
    }
   ],
   "source": [
    "#set the number of trials\n",
    "\n",
    "n_trials = 10_000\n",
    "n_rows = 10_000\n",
    "\n",
    "#roll 3 dice\n",
    "\n",
    "n_dice = 3\n",
    "n_cols = 3\n",
    "\n",
    "#use np's random choice\n",
    "# Select from [1, 2, 3,4 5, 6]\n",
    "\n",
    "rolls = np.random.choice([1, 2, 3, 4, 5, 6], n_trials * n_dice).reshape(n_rows, n_cols)\n",
    "\n",
    "rolls"
   ]
  },
  {
   "cell_type": "code",
   "execution_count": 19,
   "id": "d0a27362",
   "metadata": {},
   "outputs": [
    {
     "data": {
      "text/plain": [
       "array([13, 13, 10, ...,  8, 14, 11])"
      ]
     },
     "execution_count": 19,
     "metadata": {},
     "output_type": "execute_result"
    }
   ],
   "source": [
    "sums_by_trial = rolls.sum(axis = 1)\n",
    "sums_by_trial"
   ]
  },
  {
   "cell_type": "code",
   "execution_count": null,
   "id": "f498aba2",
   "metadata": {},
   "outputs": [],
   "source": [
    "viz.simulation_example1(sums_by_trial) #presents visualization of potential outcome"
   ]
  },
  {
   "cell_type": "code",
   "execution_count": 12,
   "id": "db29e320",
   "metadata": {},
   "outputs": [
    {
     "data": {
      "text/plain": [
       "array([ True,  True, False, ..., False,  True, False])"
      ]
     },
     "execution_count": 12,
     "metadata": {},
     "output_type": "execute_result"
    }
   ],
   "source": [
    "wins = sums_by_trial > 12\n",
    "wins"
   ]
  },
  {
   "cell_type": "code",
   "execution_count": 13,
   "id": "32af430c",
   "metadata": {},
   "outputs": [
    {
     "data": {
      "text/plain": [
       "0.2552"
      ]
     },
     "execution_count": 13,
     "metadata": {},
     "output_type": "execute_result"
    }
   ],
   "source": [
    "win_rate = wins.astype(int).mean()\n",
    "win_rate"
   ]
  },
  {
   "cell_type": "code",
   "execution_count": 14,
   "id": "7041669f",
   "metadata": {},
   "outputs": [
    {
     "data": {
      "text/plain": [
       "-1.1720000000000002"
      ]
     },
     "execution_count": 14,
     "metadata": {},
     "output_type": "execute_result"
    }
   ],
   "source": [
    "#calculate expected winnings - $15 is the prive if you win\n",
    "expected_winnings = win_rate * 15\n",
    "\n",
    "#account for the price of the game, $5\n",
    "cost = 5\n",
    "\n",
    "#profit\n",
    "expected_profit = expected_winnings - cost\n",
    "expected_profit"
   ]
  },
  {
   "cell_type": "code",
   "execution_count": 15,
   "id": "e62b599c",
   "metadata": {},
   "outputs": [
    {
     "data": {
      "text/plain": [
       "0.5484999999999998"
      ]
     },
     "execution_count": 15,
     "metadata": {},
     "output_type": "execute_result"
    }
   ],
   "source": [
    "wins = sums_by_trial >= 12\n",
    "win_rate = wins.astype(int).mean()\n",
    "expected_winnings = win_rate * 15\n",
    "cost = 5\n",
    "expected_profit = expected_winnings - cost\n",
    "expected_profit"
   ]
  },
  {
   "cell_type": "markdown",
   "id": "7317ae92",
   "metadata": {},
   "source": [
    "### Naps"
   ]
  },
  {
   "cell_type": "code",
   "execution_count": 17,
   "id": "41d09fe0",
   "metadata": {},
   "outputs": [],
   "source": [
    "p_nap = .3\n",
    "ndays = ncols = 2\n",
    "n_simulated_weekends = nrows = 10**5"
   ]
  },
  {
   "cell_type": "code",
   "execution_count": 18,
   "id": "054bba8a",
   "metadata": {},
   "outputs": [
    {
     "data": {
      "text/plain": [
       "array([[0.00946594, 0.69968646],\n",
       "       [0.18109235, 0.45953643],\n",
       "       [0.60421559, 0.85162938],\n",
       "       ...,\n",
       "       [0.649452  , 0.83324119],\n",
       "       [0.12823097, 0.40461738],\n",
       "       [0.11628656, 0.86938738]])"
      ]
     },
     "execution_count": 18,
     "metadata": {},
     "output_type": "execute_result"
    }
   ],
   "source": [
    "data = np.random.random((nrows, ncols))\n",
    "data"
   ]
  },
  {
   "cell_type": "code",
   "execution_count": null,
   "id": "9e46bed1",
   "metadata": {},
   "outputs": [],
   "source": []
  },
  {
   "cell_type": "code",
   "execution_count": null,
   "id": "8002f064",
   "metadata": {},
   "outputs": [],
   "source": []
  },
  {
   "cell_type": "code",
   "execution_count": null,
   "id": "110944e9",
   "metadata": {},
   "outputs": [],
   "source": []
  },
  {
   "cell_type": "markdown",
   "id": "eabd45b1",
   "metadata": {},
   "source": [
    "##### 5 min slot machine script"
   ]
  },
  {
   "cell_type": "code",
   "execution_count": 28,
   "id": "0fe3595d",
   "metadata": {},
   "outputs": [],
   "source": [
    "bal = 50000"
   ]
  },
  {
   "cell_type": "code",
   "execution_count": 59,
   "id": "1a87dfb4",
   "metadata": {},
   "outputs": [
    {
     "name": "stdout",
     "output_type": "stream",
     "text": [
      "Enter your bet $100\n",
      " You win! \n",
      "Your current balance is $48700\n"
     ]
    }
   ],
   "source": [
    "import random as r\n",
    "play = int(input(\"Enter your bet $\"))\n",
    "box = r.randint(1,11)\n",
    "box\n",
    "if box == 3:\n",
    "    bal = bal + (play * 2)\n",
    "    print(\" You win 2X!\")\n",
    "    print(\"Your current balance is $\" + str(bal))\n",
    "elif box == 3:\n",
    "    bal = bal + (play * 7)\n",
    "    print(\" Big win! 7X multiplier! \")\n",
    "    print(\"Your current balance is $\" + str(bal))\n",
    "else:\n",
    "    bal = bal - int(play)\n",
    "    print(\" Sorry! Try again! \")\n",
    "    print(\"Your current balance is $\" + str(bal))\n",
    "\n",
    "        "
   ]
  },
  {
   "cell_type": "code",
   "execution_count": null,
   "id": "4bfe7eda",
   "metadata": {},
   "outputs": [],
   "source": []
  }
 ],
 "metadata": {
  "kernelspec": {
   "display_name": "Python 3 (ipykernel)",
   "language": "python",
   "name": "python3"
  },
  "language_info": {
   "codemirror_mode": {
    "name": "ipython",
    "version": 3
   },
   "file_extension": ".py",
   "mimetype": "text/x-python",
   "name": "python",
   "nbconvert_exporter": "python",
   "pygments_lexer": "ipython3",
   "version": "3.9.13"
  }
 },
 "nbformat": 4,
 "nbformat_minor": 5
}
