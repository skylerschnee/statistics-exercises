{
 "cells": [
  {
   "cell_type": "markdown",
   "id": "332eed3c",
   "metadata": {},
   "source": [
    "## For the following problems, use python to simulate the problem and calculate an experimental probability, then compare that to the theoretical probability."
   ]
  },
  {
   "cell_type": "code",
   "execution_count": 91,
   "id": "72585dd3",
   "metadata": {},
   "outputs": [],
   "source": [
    "# pyplot for plotting\n",
    "# numpy for vectorized array operations\n",
    "# pandas for proper tabular manipulation\n",
    "# scipy stats for our subversions\n",
    "\n",
    "import matplotlib.pyplot as plt\n",
    "import numpy as np\n",
    "import pandas as pd\n",
    "from scipy import stats\n",
    "import viz\n",
    "\n",
    "np.random.seed(123)"
   ]
  },
  {
   "cell_type": "markdown",
   "id": "1ec241d0",
   "metadata": {},
   "source": [
    "#### scipy distribution object: What can we calculate from distribution?\n",
    "\n",
    "\n",
    "- value -> probability  \n",
    "   -- pmf: probability at a particular value of random variable (only for discrete distributions!)  \n",
    "    -- pdf: probability at a particular value of random variable (for continuous distributions)  \n",
    "   -- cdf: cumulative probablity for less than or equal to value of random variable     \n",
    "   -- sf:  probability for a random variable **greater than** certain value\n",
    "- probability -> value  \n",
    "   -- ppf: less than or equal to a point   \n",
    "   -- isf: greater than a point  \n",
    "- rvs for random values "
   ]
  },
  {
   "cell_type": "markdown",
   "id": "c0d1d5e7",
   "metadata": {},
   "source": [
    "#### A bank found that the average number of cars waiting during the noon hour at a drive-up window follows a Poisson distribution with a mean of 2 cars. Make a chart of this distribution and answer these questions concerning the probability of cars waiting at the drive-up window.\n",
    "\n",
    "- What is the probability that no cars drive up in the noon hour?\n",
    "- What is the probability that 3 or more cars come through the drive through?\n",
    "- How likely is it that the drive through gets at least 1 car?"
   ]
  },
  {
   "cell_type": "code",
   "execution_count": 6,
   "id": "11a96880",
   "metadata": {},
   "outputs": [
    {
     "data": {
      "text/plain": [
       "0.1353352832366127"
      ]
     },
     "execution_count": 6,
     "metadata": {},
     "output_type": "execute_result"
    }
   ],
   "source": [
    "stats.poisson(2).pmf(0)"
   ]
  },
  {
   "cell_type": "code",
   "execution_count": 7,
   "id": "e88bdcea",
   "metadata": {},
   "outputs": [
    {
     "data": {
      "text/plain": [
       "0.14287653950145296"
      ]
     },
     "execution_count": 7,
     "metadata": {},
     "output_type": "execute_result"
    }
   ],
   "source": [
    "stats.poisson(2).sf(3) #######"
   ]
  },
  {
   "cell_type": "code",
   "execution_count": 8,
   "id": "c4f18427",
   "metadata": {},
   "outputs": [
    {
     "data": {
      "text/plain": [
       "0.8646647167633873"
      ]
     },
     "execution_count": 8,
     "metadata": {},
     "output_type": "execute_result"
    }
   ],
   "source": [
    "stats.poisson(2).sf(0)"
   ]
  },
  {
   "cell_type": "markdown",
   "id": "0bc4713d",
   "metadata": {},
   "source": [
    "#### Grades of State University graduates are normally distributed with a mean of 3.0 and a standard deviation of .3. Calculate the following:\n",
    "\n",
    "- What grade point average is required to be in the top 5% of the graduating class?\n",
    "- What GPA constitutes the bottom 15% of the class?\n",
    "- An eccentric alumnus left scholarship money for students in the third decile from the bottom of their class.\n",
    "- Determine the range of the third decile. Would a student with a 2.8 grade point average qualify for this scholarship?\n",
    "- If I have a GPA of 3.5, what percentile am I in?"
   ]
  },
  {
   "cell_type": "code",
   "execution_count": 9,
   "id": "b722634f",
   "metadata": {},
   "outputs": [],
   "source": [
    "μ = 3\n",
    "σ = .3\n",
    "\n",
    "grade_dist = stats.norm(μ, σ)"
   ]
  },
  {
   "cell_type": "code",
   "execution_count": 10,
   "id": "c16063e6",
   "metadata": {},
   "outputs": [
    {
     "data": {
      "text/plain": [
       "3.4934560880854417"
      ]
     },
     "execution_count": 10,
     "metadata": {},
     "output_type": "execute_result"
    }
   ],
   "source": [
    "grade_dist.isf(.05)"
   ]
  },
  {
   "cell_type": "code",
   "execution_count": 11,
   "id": "cb46d9ca",
   "metadata": {},
   "outputs": [
    {
     "data": {
      "text/plain": [
       "2.689069983151863"
      ]
     },
     "execution_count": 11,
     "metadata": {},
     "output_type": "execute_result"
    }
   ],
   "source": [
    "grade_dist.ppf(.15)"
   ]
  },
  {
   "cell_type": "code",
   "execution_count": 119,
   "id": "ea7afc35",
   "metadata": {},
   "outputs": [
    {
     "data": {
      "text/plain": [
       "array([2.74751363, 2.84267985])"
      ]
     },
     "execution_count": 119,
     "metadata": {},
     "output_type": "execute_result"
    }
   ],
   "source": [
    "grade_dist.ppf([.2, .3])\n",
    "\n",
    "# A: yes, a student with a 2.8 grade point average would qualify"
   ]
  },
  {
   "cell_type": "code",
   "execution_count": 109,
   "id": "8d47f8a8",
   "metadata": {},
   "outputs": [
    {
     "data": {
      "text/plain": [
       "0.3315904626424956"
      ]
     },
     "execution_count": 109,
     "metadata": {},
     "output_type": "execute_result"
    }
   ],
   "source": [
    "grade_dist.pdf(3.5)"
   ]
  },
  {
   "cell_type": "markdown",
   "id": "fe940aab",
   "metadata": {},
   "source": [
    "#### A marketing website has an average click-through rate of 2%. One day they observe 4326 visitors and 97 click-throughs. How likely is it that this many people or more click through?"
   ]
  },
  {
   "cell_type": "code",
   "execution_count": 120,
   "id": "358b5f86",
   "metadata": {},
   "outputs": [
    {
     "data": {
      "text/plain": [
       "0.13975823631416448"
      ]
     },
     "execution_count": 120,
     "metadata": {},
     "output_type": "execute_result"
    }
   ],
   "source": [
    "n_trials = 4326\n",
    "click_rate = .02\n",
    "\n",
    "stats.binom(4326, .02).sf(96)"
   ]
  },
  {
   "cell_type": "markdown",
   "id": "ec8dd1ad",
   "metadata": {},
   "source": [
    "#### You are working on some statistics homework consisting of 100 questions where all of the answers are a probability rounded to the hundreths place. Looking to save time, you put down random probabilities as the answer to each question.\n",
    "\n",
    "- What is the probability that at least one of your first 60 answers is correct?"
   ]
  },
  {
   "cell_type": "code",
   "execution_count": 124,
   "id": "119f9e4f",
   "metadata": {},
   "outputs": [
    {
     "data": {
      "text/plain": [
       "0.45284335760923855"
      ]
     },
     "execution_count": 124,
     "metadata": {},
     "output_type": "execute_result"
    }
   ],
   "source": [
    "trials = 60\n",
    "probability = .01\n",
    "\n",
    "stats.binom(60, .01).sf(0)"
   ]
  },
  {
   "cell_type": "markdown",
   "id": "b8f7d6e5",
   "metadata": {},
   "source": [
    "#### The codeup staff tends to get upset when the student break area is not cleaned up. Suppose that there's a 3% chance that any one student cleans the break area when they visit it, and, on any given day, about 90% of the 3 active cohorts of 22 students visit the break area. \n",
    "\n",
    "- How likely is it that it goes two days without getting cleaned up? All week?\n",
    "- How likely is it that the break area gets cleaned up each day? "
   ]
  },
  {
   "cell_type": "code",
   "execution_count": 46,
   "id": "210e4641",
   "metadata": {},
   "outputs": [
    {
     "data": {
      "text/plain": [
       "0.027483031992576134"
      ]
     },
     "execution_count": 46,
     "metadata": {},
     "output_type": "execute_result"
    }
   ],
   "source": [
    "#students = (3 * 22) *.9\n",
    "#trials = students * 2 #days\n",
    "#probability = .03\n",
    "\n",
    "\n",
    "stats.binom(118,.03).pmf(0)"
   ]
  },
  {
   "cell_type": "code",
   "execution_count": 51,
   "id": "1bf32909",
   "metadata": {},
   "outputs": [
    {
     "data": {
      "text/plain": [
       "0.00011781621791055051"
      ]
     },
     "execution_count": 51,
     "metadata": {},
     "output_type": "execute_result"
    }
   ],
   "source": [
    "#students = (3 * 22) *.9\n",
    "#trials = students * 5 #days\n",
    "#probability = .03\n",
    "\n",
    "\n",
    "stats.binom(297,.03).pmf(0)"
   ]
  },
  {
   "cell_type": "code",
   "execution_count": 50,
   "id": "a111d30b",
   "metadata": {},
   "outputs": [
    {
     "data": {
      "text/plain": [
       "0.8342199288437352"
      ]
     },
     "execution_count": 50,
     "metadata": {},
     "output_type": "execute_result"
    }
   ],
   "source": [
    "#students = (3 * 22) *.9 = 118.8\n",
    "#trials = students * 1 #days\n",
    "#probability = .03\n",
    "\n",
    "\n",
    "stats.binom(59, .03).sf(0)"
   ]
  },
  {
   "cell_type": "markdown",
   "id": "3e11bf05",
   "metadata": {},
   "source": [
    "#### You want to get lunch at La Panaderia, but notice that the line is usually very long at lunchtime. After several weeks of careful observation, you notice that the average number of people in line when your lunch break starts is normally distributed with a mean of 15 and standard deviation of 3. \n",
    "- If it takes 2 minutes for each person to order, and 10 minutes from ordering to getting your food, what is the likelihood that you have at least 15 minutes left to eat your food before you have to go back to class? \n",
    "       -Assume you have one hour for lunch, and ignore travel time to and from La Panaderia."
   ]
  },
  {
   "cell_type": "code",
   "execution_count": 52,
   "id": "bf697f06",
   "metadata": {},
   "outputs": [],
   "source": [
    "μ = 15\n",
    "σ = 3\n",
    "\n",
    "\n",
    "lunch_line = stats.norm(μ, σ)"
   ]
  },
  {
   "cell_type": "code",
   "execution_count": null,
   "id": "50bdcf7f",
   "metadata": {},
   "outputs": [],
   "source": [
    "# lunch mins = 60\n",
    "# per person wait = 2\n",
    "# wait for food = 10\n",
    "# time to eat = 15\n",
    "\n",
    "# lunch_mins - time_to_eat - wait_for_food= 35\n",
    "# 35 / per_person_wait = 17.5\n",
    "# 17 people = success, more = fail"
   ]
  },
  {
   "cell_type": "code",
   "execution_count": 53,
   "id": "f2262996",
   "metadata": {},
   "outputs": [
    {
     "data": {
      "text/plain": [
       "0.7475074624530771"
      ]
     },
     "execution_count": 53,
     "metadata": {},
     "output_type": "execute_result"
    }
   ],
   "source": [
    "# What is the probability that sales are \n",
    "# 10,000 dollars or less on a certain day.\n",
    "# 10k or less?\n",
    "lunch_line.cdf(17)"
   ]
  },
  {
   "cell_type": "markdown",
   "id": "bc79898f",
   "metadata": {},
   "source": [
    "#### Connect to the employees database and find the average salary of current employees, along with the standard deviation. For the following questions, calculate the answer based on modeling the employees salaries with a normal distribution defined by the calculated mean and standard deviation then compare this answer to the actual values present in the salaries dataset.\n",
    "\n",
    "- What percent of employees earn less than 60,000?\n",
    "- What percent of employees earn more than 95,000?\n",
    "- What percent of employees earn between 65,000 and 80,000?\n",
    "- What do the top 5% of employees make?"
   ]
  },
  {
   "cell_type": "code",
   "execution_count": 55,
   "id": "2f594376",
   "metadata": {},
   "outputs": [],
   "source": [
    "import env"
   ]
  },
  {
   "cell_type": "code",
   "execution_count": 58,
   "id": "9db35fbb",
   "metadata": {},
   "outputs": [],
   "source": [
    "url = env.get_db_url('employees')"
   ]
  },
  {
   "cell_type": "code",
   "execution_count": 97,
   "id": "bfaf5a3c",
   "metadata": {},
   "outputs": [],
   "source": [
    "query_one = \"select avg(salary) from salaries where to_date like '9999%%'; \" "
   ]
  },
  {
   "cell_type": "code",
   "execution_count": 96,
   "id": "c4077881",
   "metadata": {},
   "outputs": [],
   "source": [
    "query_two = \"select stddev(salary) from salaries where to_date like '9999%%'; \" "
   ]
  },
  {
   "cell_type": "code",
   "execution_count": 99,
   "id": "0eaeb93c",
   "metadata": {},
   "outputs": [
    {
     "name": "stdout",
     "output_type": "stream",
     "text": [
      "   avg(salary)\n",
      "0   72012.2359\n",
      "   stddev(salary)\n",
      "0    17309.959336\n"
     ]
    }
   ],
   "source": [
    "avg_sal = pd.read_sql(query_one, url)\n",
    "stddev_sal = pd.read_sql(query_two, url)\n",
    "print(avg_sal)\n",
    "print(stddev_sal)"
   ]
  },
  {
   "cell_type": "code",
   "execution_count": 104,
   "id": "f52964af",
   "metadata": {},
   "outputs": [],
   "source": [
    "μ = 72012.24\n",
    "σ = 17309.96\n",
    "\n",
    "salary_stats = stats.norm(μ, σ)"
   ]
  },
  {
   "cell_type": "code",
   "execution_count": 105,
   "id": "4543f284",
   "metadata": {},
   "outputs": [
    {
     "data": {
      "text/plain": [
       "0.24385690499062396"
      ]
     },
     "execution_count": 105,
     "metadata": {},
     "output_type": "execute_result"
    }
   ],
   "source": [
    "salary_stats.cdf(60_000)"
   ]
  },
  {
   "cell_type": "code",
   "execution_count": 106,
   "id": "657494f7",
   "metadata": {},
   "outputs": [
    {
     "data": {
      "text/plain": [
       "0.09208778318255045"
      ]
     },
     "execution_count": 106,
     "metadata": {},
     "output_type": "execute_result"
    }
   ],
   "source": [
    "salary_stats.sf(95_000)"
   ]
  },
  {
   "cell_type": "code",
   "execution_count": 118,
   "id": "d042d8d4",
   "metadata": {},
   "outputs": [
    {
     "data": {
      "text/plain": [
       "0.3350612132350322"
      ]
     },
     "execution_count": 118,
     "metadata": {},
     "output_type": "execute_result"
    }
   ],
   "source": [
    "np.ptp(salary_stats.cdf([65_000, 80_000]))"
   ]
  },
  {
   "cell_type": "code",
   "execution_count": 108,
   "id": "0682f24d",
   "metadata": {},
   "outputs": [
    {
     "data": {
      "text/plain": [
       "100484.59048838491"
      ]
     },
     "execution_count": 108,
     "metadata": {},
     "output_type": "execute_result"
    }
   ],
   "source": [
    "salary_stats.isf(.05)"
   ]
  }
 ],
 "metadata": {
  "kernelspec": {
   "display_name": "Python 3 (ipykernel)",
   "language": "python",
   "name": "python3"
  },
  "language_info": {
   "codemirror_mode": {
    "name": "ipython",
    "version": 3
   },
   "file_extension": ".py",
   "mimetype": "text/x-python",
   "name": "python",
   "nbconvert_exporter": "python",
   "pygments_lexer": "ipython3",
   "version": "3.9.13"
  }
 },
 "nbformat": 4,
 "nbformat_minor": 5
}
